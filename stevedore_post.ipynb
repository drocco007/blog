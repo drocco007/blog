{
 "metadata": {
  "name": "",
  "signature": "sha256:fbae7a5f93dc89a6869e77f277aa0e2208d2df200a568c7a443423b522b6e17e"
 },
 "nbformat": 3,
 "nbformat_minor": 0,
 "worksheets": [
  {
   "cells": [
    {
     "cell_type": "heading",
     "level": 1,
     "metadata": {},
     "source": [
      "Customizable Site Templates with Stevedore"
     ]
    },
    {
     "cell_type": "heading",
     "level": 2,
     "metadata": {},
     "source": [
      "A Pluggable Python Application Case Study"
     ]
    },
    {
     "cell_type": "markdown",
     "metadata": {},
     "source": [
      "Python makes it very easy to load code dynamically; handling the subtle bugs and sometimes bizarre failure modes that arise in home-grown module loading systems is another matter entirely. [`stevedore`](http://stevedore.readthedocs.org/) provides a framework for managing plugins based on the patterns and needs demonstrated by real applications and systems. In this post, I'd like to\n",
      "\n",
      "* demonstrate the basic ideas and mechanisms used in `stevedore`, and\n",
      "* illustrate the concepts with a practical example drawn from a production system"
     ]
    },
    {
     "cell_type": "heading",
     "level": 3,
     "metadata": {},
     "source": [
      "Why?"
     ]
    },
    {
     "cell_type": "code",
     "collapsed": false,
     "input": [
      "import pandas as pd"
     ],
     "language": "python",
     "metadata": {},
     "outputs": [],
     "prompt_number": 7
    },
    {
     "cell_type": "heading",
     "level": 3,
     "metadata": {},
     "source": [
      "What is `stevedore`?"
     ]
    },
    {
     "cell_type": "markdown",
     "metadata": {},
     "source": [
      "`stevedore` is Doug Hellmann's system for managing dynamic plugins in Python. It was created after Doug conducted an extensive taxonomy of the varied (and varying quality) plugin mechanisms used by popular Python systems, which revealed several common interaction patterns. For example, many applications have the notion of a [driver](http://stevedore.readthedocs.org/en/latest/patterns_loading.html#drivers-single-name-single-entry-point) plugin, which allows an application to work with an abstract representation of a resource\u2014say a database or a network interface\u2014with a plugin providing the implementation of that abstraction tailored to a specific resource type.\n",
      "\n",
      "Rather than reinventing the plugin loading wheel (again), `stevedore` provides a set of higher-level abstractions over existing dynamic discovery and loading machinery. It utilizes `setuptools` entry points as the mechanism for defining plugins. For example, this `entry_points` definition in `setup.py` defines three entry points in the `templates` namespace: `base`, `shared`, and `client_custom`.\n",
      "\n",
      "    setup(\n",
      "    # ...\n",
      "    entry_points=\"\"\"\n",
      "        [console_scripts]\n",
      "        serve_example = base_app.main:main\n",
      "        enumerate_extensions = demo:enumerate_template_extensions\n",
      "\n",
      "        [templates]\n",
      "        base = base_app.templates\n",
      "        shared = shared_lib.templates\n",
      "        client_custom = client_custom.templates\n",
      "    \"\"\"\n",
      "    )\n",
      "    \n"
     ]
    },
    {
     "cell_type": "code",
     "collapsed": false,
     "input": [
      "from stevedore import ExtensionManager\n",
      "\n",
      "manager = ExtensionManager('templates')\n",
      "extensions = [(extension.name, extension.entry_point.module_name) for extension in manager]\n",
      "pd.DataFrame(extensions, columns=['extension_name', 'module'])"
     ],
     "language": "python",
     "metadata": {},
     "outputs": [
      {
       "html": [
        "<div style=\"max-height:1000px;max-width:1500px;overflow:auto;\">\n",
        "<table border=\"1\" class=\"dataframe\">\n",
        "  <thead>\n",
        "    <tr style=\"text-align: right;\">\n",
        "      <th></th>\n",
        "      <th>extension_name</th>\n",
        "      <th>module</th>\n",
        "    </tr>\n",
        "  </thead>\n",
        "  <tbody>\n",
        "    <tr>\n",
        "      <th>0</th>\n",
        "      <td>        shared</td>\n",
        "      <td>    shared_lib.templates</td>\n",
        "    </tr>\n",
        "    <tr>\n",
        "      <th>1</th>\n",
        "      <td>          base</td>\n",
        "      <td>      base_app.templates</td>\n",
        "    </tr>\n",
        "    <tr>\n",
        "      <th>2</th>\n",
        "      <td> client_custom</td>\n",
        "      <td> client_custom.templates</td>\n",
        "    </tr>\n",
        "  </tbody>\n",
        "</table>\n",
        "<p>3 rows \u00d7 2 columns</p>\n",
        "</div>"
       ],
       "metadata": {},
       "output_type": "pyout",
       "prompt_number": 15,
       "text": [
        "  extension_name                   module\n",
        "0         shared     shared_lib.templates\n",
        "1           base       base_app.templates\n",
        "2  client_custom  client_custom.templates\n",
        "\n",
        "[3 rows x 2 columns]"
       ]
      }
     ],
     "prompt_number": 15
    },
    {
     "cell_type": "code",
     "collapsed": false,
     "input": [
      "pd.DataFrame"
     ],
     "language": "python",
     "metadata": {},
     "outputs": []
    }
   ],
   "metadata": {}
  }
 ]
}