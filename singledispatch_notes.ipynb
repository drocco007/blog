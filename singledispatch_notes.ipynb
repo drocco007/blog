{
 "cells": [
  {
   "cell_type": "markdown",
   "metadata": {},
   "source": [
    "# `singledispatch` notes\n",
    "\n",
    "Some brief notes on experimenting with `singledispatch` in Python. \n",
    "\n",
    "* [official documentation](https://docs.python.org/3/library/functools.html#functools.singledispatch)\n",
    "* [Python 2.6–3.3 backport](https://pypi.python.org/pypi/singledispatch)"
   ]
  },
  {
   "cell_type": "code",
   "execution_count": 1,
   "metadata": {
    "collapsed": true
   },
   "outputs": [],
   "source": [
    "from functools import singledispatch"
   ]
  },
  {
   "cell_type": "markdown",
   "metadata": {},
   "source": [
    "### “Hello, `singledispatch`!”\n",
    "\n",
    "Here is a simple example that provides a base implementation that expects a string and an alternate handler for integers:"
   ]
  },
  {
   "cell_type": "code",
   "execution_count": 2,
   "metadata": {
    "collapsed": false
   },
   "outputs": [
    {
     "name": "stdout",
     "output_type": "stream",
     "text": [
      "Hello, world!\n",
      "Oooo, a whole number! (10)\n"
     ]
    }
   ],
   "source": [
    "@singledispatch\n",
    "def hello(a_str):\n",
    "    print('Hello, {}!'.format(a_str))\n",
    "    \n",
    "@hello.register(int)\n",
    "def _(an_int):\n",
    "    print('Oooo, a whole number! ({})'.format(an_int))\n",
    "    \n",
    "hello('world')\n",
    "hello(10)"
   ]
  },
  {
   "cell_type": "markdown",
   "metadata": {},
   "source": [
    "### `singledispatch` “super”\n",
    "\n",
    "Does `singledispatch` support calling from one registered function to another? A typical use case is handling a single element versus a list, which I'd normally spell like this:\n",
    "\n",
    "```python\n",
    "def process_list(list_or_str):\n",
    "    if isinstance(list_or_str, basestring):\n",
    "        list_or_str = [list_or_str]\n",
    "\n",
    "    # rest of function\n",
    "```\n",
    "\n",
    "With `singledispatch`, the typecheck can be removed and the preamble eliminated from the main implementation. Here's a silly example that prints the length of a list, which interprets strings as single-element lists:"
   ]
  },
  {
   "cell_type": "code",
   "execution_count": 3,
   "metadata": {
    "collapsed": true
   },
   "outputs": [],
   "source": [
    "@singledispatch\n",
    "def list_len(a_list):\n",
    "    # in case of a real function, this block would \n",
    "    # be something interesting\n",
    "\n",
    "    print(len(a_list))    \n",
    "\n",
    "@list_len.register(str)\n",
    "def _(a_str):\n",
    "    return list_len([a_str])"
   ]
  },
  {
   "cell_type": "markdown",
   "metadata": {},
   "source": [
    "\n",
    "This spelling promotes a nice separation of concerns: the main implementation can focus on the actual task at hand, while the chore of smoothing out call argument types — in this instance, the difference between being called with a list or a string — can be handled by registered handlers for the types you'd like to accept, each of which normalizes its input to the “base” implementation's signature and delegates the work to it. Here is an example of calling it:"
   ]
  },
  {
   "cell_type": "code",
   "execution_count": 4,
   "metadata": {
    "collapsed": false
   },
   "outputs": [
    {
     "name": "stdout",
     "output_type": "stream",
     "text": [
      "5\n"
     ]
    }
   ],
   "source": [
    "list_len([0, 1, 2, 3, 4])"
   ]
  },
  {
   "cell_type": "code",
   "execution_count": 5,
   "metadata": {
    "collapsed": false
   },
   "outputs": [
    {
     "name": "stdout",
     "output_type": "stream",
     "text": [
      "1\n"
     ]
    }
   ],
   "source": [
    "# treat a string as a single element list rather than as a sequence\n",
    "list_len('a string')"
   ]
  },
  {
   "cell_type": "markdown",
   "metadata": {},
   "source": [
    "### `singledispatch` and different signatures\n",
    "\n",
    "As expected in a free-form language like Python, the argument signatures of registered functions do not have to match as there is no checking performed. A use case for providing different signatures is to have an implementation that accepts an argument list:"
   ]
  },
  {
   "cell_type": "code",
   "execution_count": 6,
   "metadata": {
    "collapsed": false
   },
   "outputs": [
    {
     "name": "stdout",
     "output_type": "stream",
     "text": [
      "Opening connection to python.org:80\n"
     ]
    }
   ],
   "source": [
    "@singledispatch\n",
    "def connect(host, port=80):\n",
    "    print('Opening connection to {}:{}'.format(host, port))\n",
    "    \n",
    "connect('python.org')"
   ]
  },
  {
   "cell_type": "markdown",
   "metadata": {},
   "source": [
    "but also offer an override that accepts a “packed” object — either a class instance or a generic container like `dict` or `list` — which is unpacked and sent to the base implementation. Here is an example that unpacks a `tuple` and invokes `connect()` using the `tuple`'s values as arguments:"
   ]
  },
  {
   "cell_type": "code",
   "execution_count": 7,
   "metadata": {
    "collapsed": false
   },
   "outputs": [
    {
     "name": "stdout",
     "output_type": "stream",
     "text": [
      "Opening connection to python.org:80\n",
      "Opening connection to python.org:443\n"
     ]
    }
   ],
   "source": [
    "@connect.register(tuple)\n",
    "def _(a_tuple):\n",
    "    return connect(*a_tuple)\n",
    "\n",
    "connect(('python.org',))\n",
    "connect(('python.org', 443))"
   ]
  },
  {
   "cell_type": "code",
   "execution_count": null,
   "metadata": {
    "collapsed": true
   },
   "outputs": [],
   "source": []
  }
 ],
 "metadata": {
  "kernelspec": {
   "display_name": "Python 3",
   "language": "python",
   "name": "python3"
  },
  "language_info": {
   "codemirror_mode": {
    "name": "ipython",
    "version": 3
   },
   "file_extension": ".py",
   "mimetype": "text/x-python",
   "name": "python",
   "nbconvert_exporter": "python",
   "pygments_lexer": "ipython3",
   "version": "3.4.2"
  }
 },
 "nbformat": 4,
 "nbformat_minor": 0
}
