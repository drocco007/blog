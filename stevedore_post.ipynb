{
 "metadata": {
  "name": "",
  "signature": "sha256:fc309eff8140b6f328326c264a6dea47486267c4f2c93c55774b97bead38ae21"
 },
 "nbformat": 3,
 "nbformat_minor": 0,
 "worksheets": [
  {
   "cells": [
    {
     "cell_type": "heading",
     "level": 1,
     "metadata": {},
     "source": [
      "Customizable Site Templates with Stevedore"
     ]
    },
    {
     "cell_type": "heading",
     "level": 2,
     "metadata": {},
     "source": [
      "A Pluggable Python Application Case Study"
     ]
    },
    {
     "cell_type": "markdown",
     "metadata": {},
     "source": [
      "Python makes it very easy to load code dynamically; handling the subtle bugs and sometimes bizarre failure modes that arise in home-grown module loading systems is another matter entirely. [`stevedore`](http://stevedore.readthedocs.org/) provides a framework for managing plugins based on the patterns and needs demonstrated by real applications and systems. In this post, I'd like to\n",
      "\n",
      "* demonstrate the basic ideas and mechanisms used in `stevedore`, and\n",
      "* illustrate the concepts with a practical example drawn from a production system"
     ]
    },
    {
     "cell_type": "heading",
     "level": 3,
     "metadata": {},
     "source": [
      "Why?"
     ]
    },
    {
     "cell_type": "markdown",
     "metadata": {},
     "source": [
      "Building applications is hard. Many forces exert influence on a software project as it ages, and the physics of software imply that, over time, these forces will tend to increase the complexity of the software. Features creep in; \"temporary\" hacks endure, becoming larger and more entrenched; code begins to smell and then to rot. While we've heard the painful lessons and best practices from others, there is a difference between knowing the path and walking the path: in the swirling chaos of time pressures and user demands, how do we apply sound design principles and create software suffused with simplicity and elegance?\n",
      "\n",
      "Simplicity and elegance; clean abstraction and design: these are the grand challenges of software development. Simplicity in software is the result of deliberate, focused, and continuous attention and cultivation; in a very real sense, it is \"unnatural.\" Yet like any craft, building sound software is a practice that can be learned and mastered, and there is much wisdom and shared experience available to us with an ease and at a scale that is historically unprecedented.\n",
      "\n",
      "If pressed to boil 60 years of software development experience down to a soundbite, \"complexity kills\" would perhaps make a good approximation. Principles like the Single Responsibility Principle encourage us to envision software composed of simple interacting components; if we cannot avoid complexity, ideas like abstraction and encapsulation [suggest that we bury it](http://rhodesmill.org/brandon/slides/2013-10-pyconie/#wheeler-1952), decoupling it and hiding it away from the rest of our application as far as possible. Taking these ideas at scale, a common way to build applications is to use a *plug-in architecture*, applying the same principles used when designing clean functions at the coarser level of granularity of an entire application. Rather than being conceived as monolithic entities, pluggable applications define a core framework and rely on interchangeable, communicating components to define policy, implement business rules, and interact with the world."
     ]
    },
    {
     "cell_type": "heading",
     "level": 3,
     "metadata": {},
     "source": [
      "What is `stevedore`?"
     ]
    },
    {
     "cell_type": "markdown",
     "metadata": {},
     "source": [
      "`stevedore` is Doug Hellmann's system for managing dynamic plugins in Python. It was created after Doug conducted an extensive taxonomy of the varied (and varying quality) plugin mechanisms used by popular Python systems, which revealed several common interaction patterns. For example, many applications have the notion of a [driver](http://stevedore.readthedocs.org/en/latest/patterns_loading.html#drivers-single-name-single-entry-point) plugin, which allows an application to work with an abstract representation of a resource\u2014say a database or a network interface\u2014with a plugin providing the implementation of that abstraction tailored to a specific resource type.\n",
      "\n",
      "Rather than reinventing the plugin loading wheel (again), `stevedore` provides a set of higher-level abstractions over existing dynamic discovery and loading machinery. It utilizes `setuptools` entry points as the mechanism for defining plugins. For example, this `entry_points` definition in `setup.py` defines three entry points in the `templates` namespace: `base`, `shared`, and `client_custom`.\n",
      "\n",
      "    setup(\n",
      "    # ...\n",
      "    entry_points=\"\"\"\n",
      "        [console_scripts]\n",
      "        serve_example = base_app.main:main\n",
      "        enumerate_extensions = demo:enumerate_template_extensions\n",
      "\n",
      "        [templates]\n",
      "        base = base_app.templates\n",
      "        shared = shared_lib.templates\n",
      "        client_custom = client_custom.templates\n",
      "    \"\"\"\n",
      "    )\n",
      "    \n",
      "Just for fun, I've also declared two `console_scripts` that can be run from the command line once you've installed this post's sample code. We'll come back to `serve_example`, but `enumerate_extensions` is a bit of a `stevedore` \"hello world\" that demonstrates the basic mechanics by enumerating the extensions in the `templates` namespace: "
     ]
    },
    {
     "cell_type": "code",
     "collapsed": false,
     "input": [
      "!enumerate_extensions"
     ],
     "language": "python",
     "metadata": {},
     "outputs": [
      {
       "output_type": "stream",
       "stream": "stdout",
       "text": [
        "DEBUG:stevedore.extension:found extension EntryPoint.parse('shared = shared_lib.templates')\r\n",
        "DEBUG:stevedore.extension:found extension EntryPoint.parse('base = base_app.templates')\r\n",
        "DEBUG:stevedore.extension:found extension EntryPoint.parse('client_custom = client_custom.templates')\r\n",
        "Extensions in namespace \"templates\":\r\n",
        "\tshared (module shared_lib.templates)\r\n",
        "\tbase (module base_app.templates)\r\n",
        "\tclient_custom (module client_custom.templates)\r\n"
       ]
      }
     ],
     "prompt_number": 23
    },
    {
     "cell_type": "markdown",
     "metadata": {},
     "source": [
      "Here's how it works: `stevedore` provides a set of manager classes to interact with the entry points defined by an application. In this example we use an `ExtensionManager`, the most generic manager, to show the plugins defined in a given namespace. First, create the manager, passing the desired namespace to its constructor:"
     ]
    },
    {
     "cell_type": "code",
     "collapsed": false,
     "input": [
      "from stevedore import ExtensionManager\n",
      "\n",
      "manager = ExtensionManager('templates')"
     ],
     "language": "python",
     "metadata": {},
     "outputs": [],
     "prompt_number": 24
    },
    {
     "cell_type": "markdown",
     "metadata": {},
     "source": [
      "Manager objects are iterable, returning the list of discovered extensions in the supplied namespace. Each returned object is an Extension, a small bookkeeping wrapper around an EntryPoint:"
     ]
    },
    {
     "cell_type": "code",
     "collapsed": false,
     "input": [
      "extension = next(iter(manager))\n",
      "type(extension)"
     ],
     "language": "python",
     "metadata": {},
     "outputs": [
      {
       "metadata": {},
       "output_type": "pyout",
       "prompt_number": 25,
       "text": [
        "stevedore.extension.Extension"
       ]
      }
     ],
     "prompt_number": 25
    },
    {
     "cell_type": "markdown",
     "metadata": {},
     "source": [
      "The extension exposes the entry point target (either a module or an attribute within a module, say a class or a function) as its `plugin` attribute:"
     ]
    },
    {
     "cell_type": "code",
     "collapsed": false,
     "input": [
      "extension.plugin"
     ],
     "language": "python",
     "metadata": {},
     "outputs": [
      {
       "metadata": {},
       "output_type": "pyout",
       "prompt_number": 26,
       "text": [
        "<module 'shared_lib.templates' from 'shared_lib/templates/__init__.pyc'>"
       ]
      }
     ],
     "prompt_number": 26
    },
    {
     "cell_type": "markdown",
     "metadata": {},
     "source": [
      "The rest of the example merely iterates over the plugins discovered in the `templates` namespace, printing out the name and module target of each:"
     ]
    },
    {
     "cell_type": "code",
     "collapsed": false,
     "input": [
      "import pandas as pd\n",
      "extensions = [(extension.name, extension.plugin.__name__) for extension in manager]\n",
      "pd.DataFrame(extensions, columns=['extension_name', 'module'])"
     ],
     "language": "python",
     "metadata": {},
     "outputs": [
      {
       "html": [
        "<div style=\"max-height:1000px;max-width:1500px;overflow:auto;\">\n",
        "<table border=\"1\" class=\"dataframe\">\n",
        "  <thead>\n",
        "    <tr style=\"text-align: right;\">\n",
        "      <th></th>\n",
        "      <th>extension_name</th>\n",
        "      <th>module</th>\n",
        "    </tr>\n",
        "  </thead>\n",
        "  <tbody>\n",
        "    <tr>\n",
        "      <th>0</th>\n",
        "      <td>        shared</td>\n",
        "      <td>    shared_lib.templates</td>\n",
        "    </tr>\n",
        "    <tr>\n",
        "      <th>1</th>\n",
        "      <td>          base</td>\n",
        "      <td>      base_app.templates</td>\n",
        "    </tr>\n",
        "    <tr>\n",
        "      <th>2</th>\n",
        "      <td> client_custom</td>\n",
        "      <td> client_custom.templates</td>\n",
        "    </tr>\n",
        "  </tbody>\n",
        "</table>\n",
        "<p>3 rows \u00d7 2 columns</p>\n",
        "</div>"
       ],
       "metadata": {},
       "output_type": "pyout",
       "prompt_number": 27,
       "text": [
        "  extension_name                   module\n",
        "0         shared     shared_lib.templates\n",
        "1           base       base_app.templates\n",
        "2  client_custom  client_custom.templates\n",
        "\n",
        "[3 rows x 2 columns]"
       ]
      }
     ],
     "prompt_number": 27
    },
    {
     "cell_type": "heading",
     "level": 3,
     "metadata": {},
     "source": [
      "Off Beat: Plugin... Templates?"
     ]
    },
    {
     "cell_type": "markdown",
     "metadata": {},
     "source": [
      "Lets use `stevedore` to build something interesting: pluggable templates, partially inspired by Django's template handling in its app mechanism. Here's the idea: I have a base web application that defines a common structure and style for the app:"
     ]
    },
    {
     "cell_type": "code",
     "collapsed": false,
     "input": [
      "from IPython.core.display import display_svg\n",
      "display_svg(file('./site_outline.svg').read(), raw=True)"
     ],
     "language": "python",
     "metadata": {},
     "outputs": [
      {
       "metadata": {},
       "output_type": "display_data",
       "svg": [
        "<?xml version=\"1.0\" encoding=\"UTF-8\" standalone=\"no\"?>\n",
        "<!-- Created with Inkscape (http://www.inkscape.org/) -->\n",
        "\n",
        "<svg\n",
        "   xmlns:dc=\"http://purl.org/dc/elements/1.1/\"\n",
        "   xmlns:cc=\"http://creativecommons.org/ns#\"\n",
        "   xmlns:rdf=\"http://www.w3.org/1999/02/22-rdf-syntax-ns#\"\n",
        "   xmlns:svg=\"http://www.w3.org/2000/svg\"\n",
        "   xmlns=\"http://www.w3.org/2000/svg\"\n",
        "   xmlns:sodipodi=\"http://sodipodi.sourceforge.net/DTD/sodipodi-0.dtd\"\n",
        "   xmlns:inkscape=\"http://www.inkscape.org/namespaces/inkscape\"\n",
        "   width=\"474\"\n",
        "   height=\"409\"\n",
        "   id=\"svg2\"\n",
        "   version=\"1.1\"\n",
        "   inkscape:version=\"0.48.4 r9939\"\n",
        "   sodipodi:docname=\"site_outline.svg\">\n",
        "  <defs\n",
        "     id=\"defs4\" />\n",
        "  <sodipodi:namedview\n",
        "     id=\"base\"\n",
        "     pagecolor=\"#ffffff\"\n",
        "     bordercolor=\"#666666\"\n",
        "     borderopacity=\"1.0\"\n",
        "     inkscape:pageopacity=\"0.0\"\n",
        "     inkscape:pageshadow=\"2\"\n",
        "     inkscape:zoom=\"1\"\n",
        "     inkscape:cx=\"168.83876\"\n",
        "     inkscape:cy=\"90.798532\"\n",
        "     inkscape:document-units=\"px\"\n",
        "     inkscape:current-layer=\"layer1\"\n",
        "     showgrid=\"true\"\n",
        "     showguides=\"true\"\n",
        "     inkscape:guide-bbox=\"true\"\n",
        "     inkscape:snap-global=\"true\"\n",
        "     inkscape:window-width=\"1920\"\n",
        "     inkscape:window-height=\"1037\"\n",
        "     inkscape:window-x=\"0\"\n",
        "     inkscape:window-y=\"25\"\n",
        "     inkscape:window-maximized=\"1\"\n",
        "     fit-margin-top=\"0\"\n",
        "     fit-margin-left=\"0\"\n",
        "     fit-margin-right=\"0\"\n",
        "     fit-margin-bottom=\"0\">\n",
        "    <sodipodi:guide\n",
        "       orientation=\"1,0\"\n",
        "       position=\"-0.5,441.51282\"\n",
        "       id=\"guide3757\" />\n",
        "    <sodipodi:guide\n",
        "       orientation=\"0,1\"\n",
        "       position=\"15.5,410.51282\"\n",
        "       id=\"guide3759\" />\n",
        "    <sodipodi:guide\n",
        "       orientation=\"0,1\"\n",
        "       position=\"-255.5,0.512817\"\n",
        "       id=\"guide3761\" />\n",
        "    <sodipodi:guide\n",
        "       orientation=\"1,0\"\n",
        "       position=\"473.5,410.51282\"\n",
        "       id=\"guide3763\" />\n",
        "    <inkscape:grid\n",
        "       type=\"xygrid\"\n",
        "       id=\"grid3767\"\n",
        "       empspacing=\"5\"\n",
        "       visible=\"true\"\n",
        "       enabled=\"true\"\n",
        "       snapvisiblegridlinesonly=\"true\"\n",
        "       originx=\"-39.5px\"\n",
        "       originy=\"-423.48718px\" />\n",
        "  </sodipodi:namedview>\n",
        "  <metadata\n",
        "     id=\"metadata7\">\n",
        "    <rdf:RDF>\n",
        "      <cc:Work\n",
        "         rdf:about=\"\">\n",
        "        <dc:format>image/svg+xml</dc:format>\n",
        "        <dc:type\n",
        "           rdf:resource=\"http://purl.org/dc/dcmitype/StillImage\" />\n",
        "        <dc:title></dc:title>\n",
        "      </cc:Work>\n",
        "    </rdf:RDF>\n",
        "  </metadata>\n",
        "  <g\n",
        "     inkscape:label=\"Layer 1\"\n",
        "     inkscape:groupmode=\"layer\"\n",
        "     id=\"layer1\"\n",
        "     transform=\"translate(-39.5,-219.875)\">\n",
        "    <rect\n",
        "       style=\"fill:#ffffff;fill-opacity:1;stroke:#000000;stroke-width:1.01373017;stroke-miterlimit:4;stroke-opacity:1;stroke-dasharray:none\"\n",
        "       id=\"rect3765\"\n",
        "       width=\"472.98624\"\n",
        "       height=\"407.98624\"\n",
        "       x=\"40.006866\"\n",
        "       y=\"220.36906\" />\n",
        "    <rect\n",
        "       style=\"fill:#ffffff;fill-opacity:1;stroke:#000000;stroke-width:1;stroke-miterlimit:4;stroke-opacity:1;stroke-dasharray:none\"\n",
        "       id=\"rect3771\"\n",
        "       width=\"450\"\n",
        "       height=\"50\"\n",
        "       x=\"50\"\n",
        "       y=\"232.36218\" />\n",
        "    <rect\n",
        "       style=\"fill:#ffffff;fill-opacity:1;stroke:#000000;stroke-width:1;stroke-miterlimit:4;stroke-opacity:1;stroke-dasharray:none\"\n",
        "       id=\"rect3773\"\n",
        "       width=\"120\"\n",
        "       height=\"280\"\n",
        "       x=\"50\"\n",
        "       y=\"292.36218\" />\n",
        "    <rect\n",
        "       style=\"fill:#ffffff;fill-opacity:1;stroke:#000000;stroke-width:1;stroke-miterlimit:4;stroke-opacity:1;stroke-dasharray:none\"\n",
        "       id=\"rect3775\"\n",
        "       width=\"320\"\n",
        "       height=\"280\"\n",
        "       x=\"180\"\n",
        "       y=\"292.36218\" />\n",
        "    <rect\n",
        "       style=\"fill:#ffffff;fill-opacity:1;stroke:#000000;stroke-width:1;stroke-miterlimit:4;stroke-opacity:1;stroke-dasharray:none\"\n",
        "       id=\"rect3777\"\n",
        "       width=\"450\"\n",
        "       height=\"30\"\n",
        "       x=\"50\"\n",
        "       y=\"582.36218\" />\n",
        "  </g>\n",
        "</svg>\n"
       ]
      }
     ],
     "prompt_number": 28
    },
    {
     "cell_type": "code",
     "collapsed": false,
     "input": [
      "%magic"
     ],
     "language": "python",
     "metadata": {},
     "outputs": [],
     "prompt_number": 29
    },
    {
     "cell_type": "code",
     "collapsed": false,
     "input": [
      "%%svg?"
     ],
     "language": "python",
     "metadata": {},
     "outputs": [],
     "prompt_number": 30
    },
    {
     "cell_type": "code",
     "collapsed": false,
     "input": [],
     "language": "python",
     "metadata": {},
     "outputs": [],
     "prompt_number": 30
    }
   ],
   "metadata": {}
  }
 ]
}