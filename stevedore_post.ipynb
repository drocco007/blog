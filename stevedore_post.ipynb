{
 "metadata": {
  "name": "",
  "signature": "sha256:c96e37134c3d88e9163fb4e38c82a468c63d3bd6a2664abf8a5e4600a91df618"
 },
 "nbformat": 3,
 "nbformat_minor": 0,
 "worksheets": [
  {
   "cells": [
    {
     "cell_type": "heading",
     "level": 1,
     "metadata": {},
     "source": [
      "Customizable Site Templates with Stevedore"
     ]
    },
    {
     "cell_type": "heading",
     "level": 2,
     "metadata": {},
     "source": [
      "A Pluggable Python Application Case Study"
     ]
    },
    {
     "cell_type": "markdown",
     "metadata": {},
     "source": [
      "Python makes it very easy to load code dynamically; handling the subtle bugs and sometimes bizarre failure modes that arise in home-grown module loading systems is another matter entirely. [`stevedore`](http://stevedore.readthedocs.org/) provides a framework for managing plugins based on the patterns and needs demonstrated by real applications and systems. If you want to implement a plugin architecture for your application, `stevedore` will accelerate your development by allowing you to focus on application abstractions instead of plugin loading mechanisms.\n",
      "\n",
      "In this post, I'd like to\n",
      "\n",
      "* demonstrate the basic ideas and mechanisms used in `stevedore`, and\n",
      "* illustrate the concepts with a practical example drawn from a production system\n",
      "\n"
     ]
    },
    {
     "cell_type": "heading",
     "level": 3,
     "metadata": {},
     "source": [
      "Why?"
     ]
    },
    {
     "cell_type": "markdown",
     "metadata": {},
     "source": [
      "Building applications is hard. Many forces exert influence on a software project as it ages, and the physics of software imply that, over time, these forces will tend to increase the complexity of the software. Features creep in; \"temporary\" hacks endure, becoming larger and more entrenched; code begins to smell and then to rot. While we've heard the painful lessons and best practices from others, there is a difference between knowing the path and walking the path: in the swirling chaos of time pressures and user demands, how do we apply sound design principles and create software suffused with simplicity and elegance?\n",
      "\n",
      "Simplicity and elegance; clean abstraction and design: these are the grand challenges of software development. Simplicity in software is the result of deliberate, focused, and continuous attention and cultivation; in a very real sense, it is \"unnatural.\" Yet like any craft, building sound software is a practice that can be learned and mastered, and there is much wisdom and shared experience available to us with an ease and at a scale that is historically unprecedented.\n",
      "\n",
      "If pressed to boil 60 years of software development experience down to a soundbite, \"complexity kills\" would perhaps make a good approximation. Principles like the Single Responsibility Principle encourage us to envision software composed of simple interacting components; if we cannot avoid complexity, ideas like abstraction and encapsulation [suggest that we bury it](http://rhodesmill.org/brandon/slides/2013-10-pyconie/#wheeler-1952), decoupling it and hiding it away from the rest of our application as far as possible. Taking these ideas at scale, a common way to build applications is to use a *plugin architecture*, applying the same principles used when designing clean functions at the coarser level of granularity of an entire application. Rather than being conceived as monolithic entities, pluggable applications define a core framework and rely on interchangeable, communicating components to define policy, implement business rules, and interact with the world."
     ]
    },
    {
     "cell_type": "heading",
     "level": 3,
     "metadata": {},
     "source": [
      "What is `stevedore`?"
     ]
    },
    {
     "cell_type": "markdown",
     "metadata": {},
     "source": [
      "`stevedore` is Doug Hellmann's system for managing dynamic plugins in Python. It was created after Doug conducted an extensive taxonomy of the varied (and varying quality) plugin mechanisms used by popular Python systems, which revealed several common interaction patterns. For example, many applications have the notion of a [driver](http://stevedore.readthedocs.org/en/latest/patterns_loading.html#drivers-single-name-single-entry-point) plugin, which allows an application to be written in terms of abstract representations of resources\u2014say a database or a network interface\u2014with plugins providing the implementations of those abstractions tailored to a specific resource type.\n",
      "\n",
      "Rather than reinventing the plugin loading wheel (<abbr title='Doug jokes that \"all developers go through a plugin framework writing phase at some point.\"'>again</abbr>), `stevedore` provides a set of higher-level abstractions over existing dynamic discovery and loading machinery. It utilizes `setuptools` entry points as the mechanism for defining plugins. For example, this `entry_points` definition in `setup.py` defines three entry points in the `templates` namespace: `base`, `shared`, and `client_custom`.\n",
      "\n",
      "    setup(\n",
      "    # ...\n",
      "    entry_points=\"\"\"\n",
      "        [console_scripts]\n",
      "        serve_example = base_app.main:main\n",
      "        enumerate_extensions = demo:enumerate_template_extensions\n",
      "\n",
      "        [templates]\n",
      "        base = base_app.templates\n",
      "        shared = shared_lib.templates\n",
      "        client_custom = client_custom.templates\n",
      "    \"\"\"\n",
      "    )\n",
      "    \n",
      "In this example, `templates` is the entry point namespace, inside of which I've declared three entry points: `base`, `shared`, and `client_custom`. The right-hand side defines the entry point target, which can be either a Python package or an attribute within a package.\n",
      "\n",
      "Just for fun, I've also declared two `console_scripts` that can be run from the command line once you've installed this post's sample code. We'll come back to `serve_example`, but `enumerate_extensions` is a bit of a `stevedore` \"hello world\" that demonstrates the basic mechanics by enumerating the extensions in the `templates` namespace: "
     ]
    },
    {
     "cell_type": "code",
     "collapsed": false,
     "input": [
      "%load demo/__init__.py"
     ],
     "language": "python",
     "metadata": {},
     "outputs": [],
     "prompt_number": 52
    },
    {
     "cell_type": "code",
     "collapsed": false,
     "input": [
      "import logging\n",
      "\n",
      "from stevedore import ExtensionManager\n",
      "\n",
      "\n",
      "def enumerate_template_extensions():\n",
      "    # logging.basicConfig(level=logging.DEBUG)\n",
      "    manager = ExtensionManager('templates')\n",
      "\n",
      "    print 'Extensions in namespace \"templates\":'\n",
      "\n",
      "    for extension in manager:\n",
      "        print '\\t{} (module {})'.format(extension.name,\n",
      "                                        extension.entry_point.module_name)\n"
     ],
     "language": "python",
     "metadata": {},
     "outputs": [],
     "prompt_number": 3
    },
    {
     "cell_type": "code",
     "collapsed": false,
     "input": [
      "enumerate_template_extensions()"
     ],
     "language": "python",
     "metadata": {},
     "outputs": [
      {
       "output_type": "stream",
       "stream": "stdout",
       "text": [
        "Extensions in namespace \"templates\":\n",
        "\tshared (module shared_lib.templates)\n",
        "\tbase (module base_app.templates)\n",
        "\tclient_custom (module client_custom.templates)\n"
       ]
      }
     ],
     "prompt_number": 4
    },
    {
     "cell_type": "markdown",
     "metadata": {},
     "source": [
      "Here's how it works: `stevedore` provides a set of manager classes to, well, *manage* the entry points defined by an application. In this example we use an `ExtensionManager`, the most generic manager, to show the plugins defined in a given namespace. First, create the manager, passing the desired namespace to its constructor (line 8 above). Manager objects are iterable, returning the list of discovered extensions in the supplied namespace. Each returned object is an Extension, a small bookkeeping wrapper around an entry point:"
     ]
    },
    {
     "cell_type": "code",
     "collapsed": false,
     "input": [
      "manager = ExtensionManager('templates')\n",
      "extension = next(iter(manager))\n",
      "type(extension)"
     ],
     "language": "python",
     "metadata": {},
     "outputs": [
      {
       "metadata": {},
       "output_type": "pyout",
       "prompt_number": 5,
       "text": [
        "stevedore.extension.Extension"
       ]
      }
     ],
     "prompt_number": 5
    },
    {
     "cell_type": "markdown",
     "metadata": {},
     "source": [
      "The extension exposes the entry point target (either a module or an attribute within a module, say a class or a function) as its `plugin` attribute:"
     ]
    },
    {
     "cell_type": "code",
     "collapsed": false,
     "input": [
      "extension.plugin"
     ],
     "language": "python",
     "metadata": {},
     "outputs": [
      {
       "metadata": {},
       "output_type": "pyout",
       "prompt_number": 6,
       "text": [
        "<module 'shared_lib.templates' from 'shared_lib/templates/__init__.pyc'>"
       ]
      }
     ],
     "prompt_number": 6
    },
    {
     "cell_type": "markdown",
     "metadata": {},
     "source": [
      "The rest of the example merely iterates over the plugins discovered in the `templates` namespace, printing out the name and module target of each.\n",
      "\n",
      "Here is a quick summary of the main concepts used in `stevedore`:\n",
      "\n",
      "* a **plugin** is simply a Python module or an attribute within a module\n",
      "* plugins are defined using **setuptools entry points** as part of a normal Python distribution\n",
      "* stevedore provides a set of **manager** classes that offer higher-level abstractions over the setuptools plugin machinery\n",
      "\n",
      "Notice that `stevedore` does *not* provide any sort of application plugin framework, nor does it have any particular opinion about what plugins are or how they work, since these concepts are generally assumed to be part of the definition of the application. In other words, `stevedore` intends to provide higher-level tools that can be used to *build* an application's plugin system without having to reimplement the dynamic code loading mechanics. That said, `stevedore`'s documentation [offers a nice tutorial](http://stevedore.readthedocs.org/en/latest/tutorial/index.html) with tips for getting started and a worked out example of a small plugin architecture.\n",
      "\n",
      "As a complement to `stevedore`'s own documentation, let's have a look at another example: a pluggable template resolution system  drawn from a production web application."
     ]
    },
    {
     "cell_type": "heading",
     "level": 3,
     "metadata": {},
     "source": [
      "The Case: Customizable Web Templates"
     ]
    },
    {
     "cell_type": "markdown",
     "metadata": {},
     "source": [
      "Imagine for a moment that you're stuck building applications with an ancient web stack ([ahem](http://turbogears.org/1.5/docs/)) and that you have Django envy: one of Django's nicer features is its [pluggable application mechanism](https://docs.djangoproject.com/en/1.6/intro/reusable-apps/), which allows developers to build systems by composing small, focused subcomponents (what Django calls \"apps,\" not to be confused with those shiny doodads on your phone). Django apps are a powerful abstraction mechanism that can utilize the full gamut of features in the Django ecosystem: they can define new ORM models, create forms, hook in to the application's URL space, notify observers of interesting events, and even override templates defined in another app to extend or augment functionality.\n",
      "\n",
      "Lets use `stevedore` to build an implementation of Django's template override mechanism for our hypothetical ancient web stack; our goal here will be to demonstrate `stevedore` in a realistic scenario by using it to build just the template discovery portion of Django's app system (the other bits left as an exercise for the reader ;). Here's the idea: I have a base web application that defines a common structure and style for the app, including a master template that groups that structure into blocks. The base application provides definitions for each block that can be overridden by more specialized versions defined in other packages:"
     ]
    },
    {
     "cell_type": "code",
     "collapsed": false,
     "input": [
      "from IPython.display import SVG\n",
      "SVG('./site_outline.svg')"
     ],
     "language": "python",
     "metadata": {},
     "outputs": [
      {
       "metadata": {},
       "output_type": "pyout",
       "prompt_number": 8,
       "svg": [
        "<svg height=\"546.54401\" id=\"svg2\" inkscape:version=\"0.48.4 r9939\" sodipodi:docname=\"site_outline.svg\" version=\"1.1\" width=\"846.75848\" xmlns=\"http://www.w3.org/2000/svg\" xmlns:cc=\"http://creativecommons.org/ns#\" xmlns:dc=\"http://purl.org/dc/elements/1.1/\" xmlns:inkscape=\"http://www.inkscape.org/namespaces/inkscape\" xmlns:rdf=\"http://www.w3.org/1999/02/22-rdf-syntax-ns#\" xmlns:sodipodi=\"http://sodipodi.sourceforge.net/DTD/sodipodi-0.dtd\" xmlns:svg=\"http://www.w3.org/2000/svg\" xmlns:xlink=\"http://www.w3.org/1999/xlink\">\n",
        "  <defs id=\"defs4\">\n",
        "    <marker id=\"Arrow1Lend\" inkscape:stockid=\"Arrow1Lend\" orient=\"auto\" refX=\"0\" refY=\"0\" style=\"overflow:visible\">\n",
        "      <path d=\"M 0,0 5,-5 -12.5,0 5,5 0,0 z\" id=\"path3830\" inkscape:connector-curvature=\"0\" style=\"fill-rule:evenodd;stroke:#000000;stroke-width:1pt\" transform=\"matrix(-0.8,0,0,-0.8,-10,0)\"/>\n",
        "    </marker>\n",
        "    <pattern id=\"pattern6041\" inkscape:collect=\"always\" patternTransform=\"matrix(11.096593,0,0,11.096593,337.53063,6.2982312)\" xlink:href=\"#Strips1_1\"/>\n",
        "    <pattern height=\"1\" id=\"Strips1_1\" inkscape:collect=\"always\" inkscape:stockid=\"Stripes 1:1\" patternTransform=\"translate(0,0) scale(10,10)\" patternUnits=\"userSpaceOnUse\" width=\"2\">\n",
        "      <rect height=\"2\" id=\"rect5318\" style=\"fill:black;stroke:none\" width=\"1\" x=\"0\" y=\"-0.5\"/>\n",
        "    </pattern>\n",
        "    <marker id=\"TriangleInL\" inkscape:stockid=\"TriangleInL\" orient=\"auto\" refX=\"0\" refY=\"0\" style=\"overflow:visible\">\n",
        "      <path d=\"m 5.77,0 -8.65,5 0,-10 8.65,5 z\" id=\"path3960\" inkscape:connector-curvature=\"0\" style=\"fill-rule:evenodd;stroke:#000000;stroke-width:1pt\" transform=\"scale(-0.8,-0.8)\"/>\n",
        "    </marker>\n",
        "    <marker id=\"Arrow1Lstart\" inkscape:stockid=\"Arrow1Lstart\" orient=\"auto\" refX=\"0\" refY=\"0\" style=\"overflow:visible\">\n",
        "      <path d=\"M 0,0 5,-5 -12.5,0 5,5 0,0 z\" id=\"path3827\" inkscape:connector-curvature=\"0\" style=\"fill-rule:evenodd;stroke:#000000;stroke-width:1pt\" transform=\"matrix(0.8,0,0,0.8,10,0)\"/>\n",
        "    </marker>\n",
        "    <filter color-interpolation-filters=\"sRGB\" id=\"filter3151\" inkscape:label=\"Drop Shadow\">\n",
        "      <feFlood flood-color=\"rgb(0,0,0)\" flood-opacity=\"0.25\" id=\"feFlood3153\" result=\"flood\"/>\n",
        "      <feComposite id=\"feComposite3155\" in=\"flood\" in2=\"SourceGraphic\" operator=\"in\" result=\"composite1\"/>\n",
        "      <feGaussianBlur id=\"feGaussianBlur3157\" result=\"blur\" stdDeviation=\"5\"/>\n",
        "      <feOffset dx=\"5\" dy=\"5\" id=\"feOffset3159\" result=\"offset\"/>\n",
        "      <feComposite id=\"feComposite3161\" in=\"SourceGraphic\" in2=\"offset\" operator=\"over\" result=\"fbSourceGraphic\"/>\n",
        "      <feColorMatrix id=\"feColorMatrix3163\" in=\"fbSourceGraphic\" result=\"fbSourceGraphicAlpha\" values=\"0 0 0 -1 0 0 0 0 -1 0 0 0 0 -1 0 0 0 0 1 0\"/>\n",
        "      <feFlood flood-color=\"rgb(0,0,0)\" flood-opacity=\"0.25\" id=\"feFlood3165\" in=\"fbSourceGraphic\" result=\"flood\"/>\n",
        "      <feComposite id=\"feComposite3167\" in=\"flood\" in2=\"fbSourceGraphic\" operator=\"in\" result=\"composite1\"/>\n",
        "      <feGaussianBlur id=\"feGaussianBlur3169\" result=\"blur\" stdDeviation=\"5\"/>\n",
        "      <feOffset dx=\"5\" dy=\"5\" id=\"feOffset3171\" result=\"offset\"/>\n",
        "      <feComposite id=\"feComposite3173\" in=\"fbSourceGraphic\" in2=\"offset\" operator=\"over\" result=\"composite2\"/>\n",
        "    </filter>\n",
        "    <mask id=\"mask4028\" maskUnits=\"userSpaceOnUse\">\n",
        "      <path d=\"m 160.79998,349.19431 c 1.60796,29.94837 -10.82939,49.15398 -38.81509,59.9378 -27.985698,10.78382 -50.094674,4.89006 -68.998754,-18.39354 -18.90408,-23.2836 -20.130827,-46.13176 -3.82849,-71.30564 16.302336,-25.17387 37.653141,-33.40105 66.632614,-25.67576 28.97948,7.72529 43.40175,25.48877 45.00972,55.43714 z\" id=\"path4030\" inkscape:flatsided=\"true\" inkscape:randomized=\"0\" inkscape:rounded=\"0.42\" inkscape:transform-center-x=\"-3.6325304\" inkscape:transform-center-y=\"-0.38557202\" sodipodi:arg1=\"-0.053639771\" sodipodi:arg2=\"0.57467876\" sodipodi:cx=\"100.14378\" sodipodi:cy=\"352.45102\" sodipodi:r1=\"60.743561\" sodipodi:r2=\"30.37178\" sodipodi:sides=\"5\" sodipodi:type=\"star\" style=\"fill:#787bd4;fill-opacity:0.48148151;stroke:#ffffff;stroke-width:1;stroke-linejoin:miter;stroke-miterlimit:4;stroke-opacity:1;stroke-dasharray:none\" transform=\"matrix(0.75129316,0,0,0.3831214,56.17512,421.77455)\"/>\n",
        "    </mask>\n",
        "    <clipPath clipPathUnits=\"userSpaceOnUse\" id=\"clipPath4100\">\n",
        "      <path d=\"m 160.79998,349.19431 c 1.60796,29.94837 -10.82939,49.15398 -38.81509,59.9378 -27.985698,10.78382 -50.094674,4.89006 -68.998754,-18.39354 -18.90408,-23.2836 -20.130827,-46.13176 -3.82849,-71.30564 16.302336,-25.17387 37.653141,-33.40105 66.632614,-25.67576 28.97948,7.72529 43.40175,25.48877 45.00972,55.43714 z\" id=\"path4102\" inkscape:flatsided=\"true\" inkscape:randomized=\"0\" inkscape:rounded=\"0.42\" inkscape:transform-center-x=\"-3.6325304\" inkscape:transform-center-y=\"-0.38557202\" sodipodi:arg1=\"-0.053639771\" sodipodi:arg2=\"0.57467876\" sodipodi:cx=\"100.14378\" sodipodi:cy=\"352.45102\" sodipodi:r1=\"60.743561\" sodipodi:r2=\"30.37178\" sodipodi:sides=\"5\" sodipodi:type=\"star\" style=\"fill:#ffffff;fill-opacity:1;stroke:#ffffff;stroke-width:1;stroke-linejoin:miter;stroke-miterlimit:4;stroke-opacity:1;stroke-dasharray:none\" transform=\"matrix(0.75129316,0,0,0.3831214,54.447988,424.07739)\"/>\n",
        "    </clipPath>\n",
        "    <clipPath clipPathUnits=\"userSpaceOnUse\" id=\"clipPath4123\">\n",
        "      <path d=\"m 160.79998,349.19431 c 1.60796,29.94837 -10.82939,49.15398 -38.81509,59.9378 -27.985698,10.78382 -50.094674,4.89006 -68.998754,-18.39354 -18.90408,-23.2836 -20.130827,-46.13176 -3.82849,-71.30564 16.302336,-25.17387 37.653141,-33.40105 66.632614,-25.67576 28.97948,7.72529 43.40175,25.48877 45.00972,55.43714 z\" id=\"path4125\" inkscape:flatsided=\"true\" inkscape:randomized=\"0\" inkscape:rounded=\"0.42\" inkscape:transform-center-x=\"-3.6325304\" inkscape:transform-center-y=\"-0.38557202\" sodipodi:arg1=\"-0.053639771\" sodipodi:arg2=\"0.57467876\" sodipodi:cx=\"100.14378\" sodipodi:cy=\"352.45102\" sodipodi:r1=\"60.743561\" sodipodi:r2=\"30.37178\" sodipodi:sides=\"5\" sodipodi:type=\"star\" style=\"fill:#ffffff;fill-opacity:1;stroke:#ffffff;stroke-width:1;stroke-linejoin:miter;stroke-miterlimit:4;stroke-opacity:1;stroke-dasharray:none\" transform=\"matrix(0.75129316,0,0,0.3831214,54.447988,424.07739)\"/>\n",
        "    </clipPath>\n",
        "    <clipPath clipPathUnits=\"userSpaceOnUse\" id=\"clipPath4127\">\n",
        "      <path d=\"m 160.79998,349.19431 c 1.60796,29.94837 -10.82939,49.15398 -38.81509,59.9378 -27.985698,10.78382 -50.094674,4.89006 -68.998754,-18.39354 -18.90408,-23.2836 -20.130827,-46.13176 -3.82849,-71.30564 16.302336,-25.17387 37.653141,-33.40105 66.632614,-25.67576 28.97948,7.72529 43.40175,25.48877 45.00972,55.43714 z\" id=\"path4129\" inkscape:flatsided=\"true\" inkscape:randomized=\"0\" inkscape:rounded=\"0.42\" inkscape:transform-center-x=\"-3.6325304\" inkscape:transform-center-y=\"-0.38557202\" sodipodi:arg1=\"-0.053639771\" sodipodi:arg2=\"0.57467876\" sodipodi:cx=\"100.14378\" sodipodi:cy=\"352.45102\" sodipodi:r1=\"60.743561\" sodipodi:r2=\"30.37178\" sodipodi:sides=\"5\" sodipodi:type=\"star\" style=\"fill:#ffffff;fill-opacity:1;stroke:#ffffff;stroke-width:1;stroke-linejoin:miter;stroke-miterlimit:4;stroke-opacity:1;stroke-dasharray:none\" transform=\"matrix(0.75129316,0,0,0.3831214,54.447988,424.07739)\"/>\n",
        "    </clipPath>\n",
        "    <marker id=\"TriangleInL-8\" inkscape:stockid=\"TriangleInL\" orient=\"auto\" refX=\"0\" refY=\"0\" style=\"overflow:visible\">\n",
        "      <path d=\"m 5.77,0 -8.65,5 0,-10 8.65,5 z\" id=\"path3960-1\" inkscape:connector-curvature=\"0\" style=\"fill-rule:evenodd;stroke:#000000;stroke-width:1pt\" transform=\"scale(-0.8,-0.8)\"/>\n",
        "    </marker>\n",
        "  </defs>\n",
        "  <sodipodi:namedview bordercolor=\"#666666\" borderopacity=\"1.0\" fit-margin-bottom=\"10\" fit-margin-left=\"10\" fit-margin-right=\"0\" fit-margin-top=\"20\" id=\"base\" inkscape:current-layer=\"layer1\" inkscape:cx=\"419.73245\" inkscape:cy=\"286.13197\" inkscape:document-units=\"px\" inkscape:guide-bbox=\"true\" inkscape:pageopacity=\"0.0\" inkscape:pageshadow=\"2\" inkscape:snap-global=\"true\" inkscape:window-height=\"1037\" inkscape:window-maximized=\"1\" inkscape:window-width=\"1920\" inkscape:window-x=\"0\" inkscape:window-y=\"25\" inkscape:zoom=\"1.9961277\" pagecolor=\"#ffffff\" showgrid=\"true\" showguides=\"true\">\n",
        "    <sodipodi:guide id=\"guide3757\" orientation=\"1,0\" position=\"186.86539,511.20005\"/>\n",
        "    <sodipodi:guide id=\"guide3759\" orientation=\"0,1\" position=\"202.86539,480.20005\"/>\n",
        "    <sodipodi:guide id=\"guide3761\" orientation=\"0,1\" position=\"-68.134615,70.200039\"/>\n",
        "    <sodipodi:guide id=\"guide3763\" orientation=\"1,0\" position=\"660.86539,480.20005\"/>\n",
        "    <inkscape:grid empspacing=\"5\" enabled=\"true\" id=\"grid3767\" originx=\"147.86539px\" originy=\"-353.79995px\" snapvisiblegridlinesonly=\"true\" type=\"xygrid\" visible=\"true\"/>\n",
        "  </sodipodi:namedview>\n",
        "  <metadata id=\"metadata7\">\n",
        "    <rdf:RDF>\n",
        "      <cc:Work rdf:about=\"\">\n",
        "        <dc:format>image/svg+xml</dc:format>\n",
        "        <dc:type rdf:resource=\"http://purl.org/dc/dcmitype/StillImage\"/>\n",
        "        <dc:title/>\n",
        "      </cc:Work>\n",
        "    </rdf:RDF>\n",
        "  </metadata>\n",
        "  <g id=\"layer1\" inkscape:groupmode=\"layer\" inkscape:label=\"Layer 1\" transform=\"translate(147.86539,-152.01818)\">\n",
        "    <rect height=\"407.98624\" id=\"rect3765\" ry=\"2.9931107\" style=\"fill:#ffffff;fill-opacity:1;stroke:#ffffff;stroke-width:1.01373017;stroke-linejoin:miter;stroke-miterlimit:4;stroke-opacity:1;stroke-dasharray:none;filter:url(#filter3151)\" transform=\"matrix(0.99399708,0,0,0.99009608,-0.04841163,1.7722488)\" width=\"472.98624\" x=\"40.006866\" y=\"220.36906\"/>\n",
        "    <rect height=\"50\" id=\"rect3771\" ry=\"1.9999925\" style=\"fill:#ece9ff;fill-opacity:1;stroke:#000000;stroke-width:1;stroke-linejoin:miter;stroke-miterlimit:4;stroke-opacity:1;stroke-dasharray:none\" width=\"450\" x=\"50\" y=\"232.36218\"/>\n",
        "    <rect height=\"280\" id=\"rect3775\" ry=\"1.9999925\" style=\"fill:#ece9ff;fill-opacity:1;stroke:#000000;stroke-width:1;stroke-linejoin:miter;stroke-miterlimit:4;stroke-opacity:1;stroke-dasharray:none\" width=\"320\" x=\"180\" y=\"292.36218\"/>\n",
        "    <rect height=\"30\" id=\"rect3777\" ry=\"1.9999925\" style=\"fill:#ece9ff;fill-opacity:1;stroke:#000000;stroke-width:1;stroke-linejoin:miter;stroke-miterlimit:4;stroke-opacity:1;stroke-dasharray:none\" width=\"450\" x=\"50\" y=\"582.36218\"/>\n",
        "    <path d=\"m 397.91723,375.89271 c -29.45045,-6.85801 -55.56136,-26.27991 -73.12108,-50.45316 -68.75452,-94.6496 -25.84193,-225.12001 51.33881,-299.912881 40.34941,-39.101052 90.76271,-67.031434 144.5282,-82.884376\" id=\"path3053\" sodipodi:argument=\"-16.702385\" sodipodi:cx=\"490.5\" sodipodi:cy=\"342.48718\" sodipodi:expansion=\"1\" sodipodi:radius=\"400.98099\" sodipodi:revolution=\"0.42025062\" sodipodi:t0=\"0.24546075\" sodipodi:type=\"spiral\" style=\"fill:none;stroke:#4d4d4d;stroke-width:2.64128661;stroke-linecap:butt;stroke-linejoin:miter;stroke-miterlimit:4;stroke-opacity:1;stroke-dasharray:none;marker-start:url(#TriangleInL)\" transform=\"matrix(-1.1927558,0.12628513,-0.15013217,-0.1042804,1074.0781,593.88236)\"/>\n",
        "    <text id=\"text4461\" sodipodi:linespacing=\"99.000001%\" style=\"font-size:24px;font-style:normal;font-variant:normal;font-weight:normal;font-stretch:normal;text-align:end;line-height:99.00000095%;letter-spacing:0px;word-spacing:0px;text-anchor:end;fill:#4d4d4d;fill-opacity:1;stroke:none;font-family:Ubuntu;-inkscape-font-specification:Ubuntu\" x=\"462\" xml:space=\"preserve\" y=\"660.36218\"><tspan id=\"tspan4463\" sodipodi:role=\"line\" style=\"font-style:normal;font-variant:normal;font-weight:normal;font-stretch:normal;fill:#4d4d4d;font-family:Ubuntu;-inkscape-font-specification:Ubuntu\" x=\"462\" y=\"660.36218\">master</tspan><tspan id=\"tspan4465\" sodipodi:role=\"line\" style=\"font-style:normal;font-variant:normal;font-weight:normal;font-stretch:normal;fill:#4d4d4d;font-family:Ubuntu;-inkscape-font-specification:Ubuntu\" x=\"462\" y=\"684.12219\">template</tspan></text>\n",
        "    <text id=\"text6050\" sodipodi:linespacing=\"125%\" style=\"font-size:18px;font-style:normal;font-variant:normal;font-weight:normal;font-stretch:normal;text-align:end;line-height:125%;letter-spacing:0px;word-spacing:0px;text-anchor:end;fill:#4d4d4d;fill-opacity:1;stroke:none;font-family:Ubuntu;-inkscape-font-specification:Ubuntu\" x=\"490\" xml:space=\"preserve\" y=\"272.36218\"><tspan id=\"tspan6052\" sodipodi:role=\"line\" x=\"490\" y=\"272.36218\">base heading</tspan></text>\n",
        "    <text id=\"text6050-7\" sodipodi:linespacing=\"125%\" style=\"font-size:18px;font-style:normal;font-variant:normal;font-weight:normal;font-stretch:normal;text-align:end;line-height:125%;letter-spacing:0px;word-spacing:0px;text-anchor:end;fill:#4d4d4d;fill-opacity:1;stroke:none;font-family:Ubuntu;-inkscape-font-specification:Ubuntu\" x=\"490\" xml:space=\"preserve\" y=\"562.36218\"><tspan id=\"tspan6052-9\" sodipodi:role=\"line\" x=\"490\" y=\"562.36218\">base content</tspan></text>\n",
        "    <rect clip-path=\"url(#clipPath4127)\" height=\"279.98468\" id=\"rect3775-9\" mask=\"none\" ry=\"1.9998831\" style=\"fill:#ece9ff;fill-opacity:1;stroke:#000000;stroke-width:0.61101156;stroke-linejoin:miter;stroke-miterlimit:4;stroke-opacity:1;stroke-dasharray:none\" transform=\"translate(1.5029099,0)\" width=\"119.4738\" x=\"50.007652\" y=\"292.36984\"/>\n",
        "    <path d=\"m 52.87897,292.225 c -1.108,0 -2,0.89201 -2,2 l 0,276 c 0,1.108 0.892,2 2,2 l 40.40625,0 c -11.663892,-8.32413 -11.701205,-16.57642 -0.25,-25.59375 12.24783,-9.64465 28.29042,-12.80348 50.0625,-9.84375 13.18515,1.7924 22.32736,5.0165 27.78125,9.8125 l 0,-252.375 c 0,-1.10799 -0.89201,-2 -2,-2 l -116,0 z\" id=\"rect3773\" inkscape:connector-curvature=\"0\" mask=\"none\" style=\"fill:#787bd4;fill-opacity:0.48148151;stroke:#000000;stroke-width:1;stroke-linejoin:miter;stroke-miterlimit:4;stroke-opacity:1\"/>\n",
        "    <g id=\"text6050-7-7\" style=\"font-size:18px;font-style:normal;font-variant:normal;font-weight:normal;font-stretch:normal;text-align:end;line-height:125%;letter-spacing:0px;word-spacing:0px;text-anchor:end;fill:#ffffff;fill-opacity:1;stroke:none;font-family:Ubuntu;-inkscape-font-specification:Ubuntu\" transform=\"translate(217.03529,-36.00279)\">\n",
        "      <path d=\"m -139.33949,563.3208 c -0.756,0 -1.422,-0.12 -1.998,-0.36 -0.564,-0.24 -1.044,-0.576 -1.44,-1.008 -0.384,-0.432 -0.672,-0.942 -0.864,-1.53 -0.192,-0.6 -0.288,-1.26 -0.288,-1.98 0,-0.72 0.102,-1.38 0.306,-1.98 0.216,-0.6 0.516,-1.11599 0.9,-1.548 0.384,-0.44399 0.852,-0.78599 1.404,-1.026 0.564,-0.25199 1.188,-0.37799 1.872,-0.378 0.42,10e-6 0.84,0.036 1.26,0.108 0.41999,0.072 0.82199,0.18601 1.206,0.342 l -0.378,1.422 c -0.25201,-0.11999 -0.54601,-0.21599 -0.882,-0.288 -0.324,-0.072 -0.672,-0.10799 -1.044,-0.108 -0.936,10e-6 -1.656,0.29401 -2.16,0.882 -0.492,0.588 -0.738,1.446 -0.738,2.574 0,0.504 0.054,0.966 0.162,1.386 0.12,0.42 0.3,0.78 0.54,1.08 0.252,0.3 0.57,0.534 0.954,0.702 0.384,0.156 0.852,0.234 1.404,0.234 0.444,0 0.846,-0.042 1.206,-0.126 0.35999,-0.084 0.64199,-0.174 0.846,-0.27 l 0.234,1.404 c -0.096,0.06 -0.23401,0.12 -0.414,0.18 -0.18001,0.048 -0.38401,0.09 -0.612,0.126 -0.22801,0.048 -0.474,0.084 -0.738,0.108 -0.252,0.036 -0.498,0.054 -0.738,0.054\" id=\"path4168\" inkscape:connector-curvature=\"0\" style=\"fill:#ffffff;stroke:none\"/>\n",
        "      <path d=\"m -127.5883,562.8348 c -0.38401,0.096 -0.89401,0.198 -1.53,0.306 -0.62401,0.108 -1.35001,0.162 -2.178,0.162 -0.72001,0 -1.326,-0.102 -1.818,-0.306 -0.492,-0.216 -0.888,-0.516 -1.188,-0.9 -0.3,-0.384 -0.516,-0.834 -0.648,-1.35 -0.132,-0.528 -0.198,-1.11 -0.198,-1.746 l 0,-5.256 1.674,0 0,4.896 c 0,1.14 0.18,1.956 0.54,2.448 0.36,0.492 0.96599,0.738 1.818,0.738 0.17999,0 0.36599,-0.006 0.558,-0.018 0.19199,-0.012 0.37199,-0.024 0.54,-0.036 0.16799,-0.024 0.31799,-0.042 0.45,-0.054 0.14399,-0.024 0.24599,-0.048 0.306,-0.072 l 0,-7.902 1.674,0 0,9.09\" id=\"path4170\" inkscape:connector-curvature=\"0\" style=\"fill:#ffffff;stroke:none\"/>\n",
        "      <path d=\"m -122.52636,561.8988 c 0.68399,0 1.18799,-0.09 1.512,-0.27 0.33599,-0.18 0.50399,-0.468 0.504,-0.864 -10e-6,-0.408 -0.16201,-0.732 -0.486,-0.972 -0.32401,-0.24 -0.85801,-0.51 -1.602,-0.81 -0.36001,-0.144 -0.70801,-0.288 -1.044,-0.432 -0.32401,-0.156 -0.60601,-0.336 -0.846,-0.54 -0.24,-0.204 -0.432,-0.45 -0.576,-0.738 -0.144,-0.288 -0.216,-0.642 -0.216,-1.062 0,-0.82799 0.306,-1.48199 0.918,-1.962 0.61199,-0.49199 1.44599,-0.73799 2.502,-0.738 0.26399,10e-6 0.52799,0.018 0.792,0.054 0.26399,0.024 0.50999,0.06 0.738,0.108 0.22799,0.036 0.42599,0.078 0.594,0.126 0.17999,0.048 0.31799,0.09 0.414,0.126 l -0.306,1.44 c -0.18001,-0.096 -0.46201,-0.19199 -0.846,-0.288 -0.38401,-0.10799 -0.84601,-0.16199 -1.386,-0.162 -0.46801,10e-6 -0.87601,0.096 -1.224,0.288 -0.34801,0.18001 -0.52201,0.468 -0.522,0.864 -1e-5,0.204 0.036,0.384 0.108,0.54 0.084,0.156 0.20399,0.3 0.36,0.432 0.16799,0.12 0.37199,0.234 0.612,0.342 0.23999,0.108 0.52799,0.222 0.864,0.342 0.44399,0.168 0.83999,0.336 1.188,0.504 0.34799,0.156 0.64199,0.342 0.882,0.558 0.25199,0.216 0.44399,0.48 0.576,0.792 0.13199,0.3 0.19799,0.672 0.198,1.116 -1e-5,0.864 -0.32401,1.518 -0.972,1.962 -0.63601,0.444 -1.54801,0.666 -2.736,0.666 -0.82801,0 -1.47601,-0.072 -1.944,-0.216 -0.468,-0.132 -0.786,-0.234 -0.954,-0.306 l 0.306,-1.44 c 0.192,0.072 0.498,0.18 0.918,0.324 0.41999,0.144 0.97799,0.216 1.674,0.216\" id=\"path4172\" inkscape:connector-curvature=\"0\" style=\"fill:#ffffff;stroke:none\"/>\n",
        "      <path d=\"m -115.12274,553.7448 3.546,0 0,1.404 -3.546,0 0,4.32 c 0,0.468 0.036,0.858 0.108,1.17 0.072,0.3 0.18,0.54 0.324,0.72 0.144,0.168 0.324,0.288 0.54,0.36 0.216,0.072 0.468,0.108 0.756,0.108 0.504,0 0.906,-0.054 1.206,-0.162 0.312,-0.12 0.528,-0.204 0.648,-0.252 l 0.324,1.386 c -0.16801,0.084 -0.462,0.186 -0.882,0.306 -0.42,0.132 -0.9,0.198 -1.44,0.198 -0.636,0 -1.164,-0.078 -1.584,-0.234 -0.408,-0.168 -0.738,-0.414 -0.99,-0.738 -0.252,-0.324 -0.432,-0.72 -0.54,-1.188 -0.096,-0.48 -0.144,-1.032 -0.144,-1.656 l 0,-8.352 1.674,-0.288 0,2.898\" id=\"path4174\" inkscape:connector-curvature=\"0\" style=\"fill:#ffffff;stroke:none\"/>\n",
        "      <path d=\"m -101.43655,558.4248 c -1e-5,0.744 -0.10801,1.416 -0.324,2.016 -0.21601,0.6 -0.52201,1.116 -0.918,1.548 -0.38401,0.432 -0.84601,0.768 -1.386,1.008 -0.54001,0.228 -1.12801,0.342 -1.764,0.342 -0.636,0 -1.224,-0.114 -1.764,-0.342 -0.54,-0.24 -1.008,-0.576 -1.404,-1.008 -0.384,-0.432 -0.684,-0.948 -0.9,-1.548 -0.216,-0.6 -0.324,-1.272 -0.324,-2.016 0,-0.732 0.108,-1.398 0.324,-1.998 0.216,-0.612 0.516,-1.13399 0.9,-1.566 0.396,-0.43199 0.864,-0.76199 1.404,-0.99 0.54,-0.23999 1.128,-0.35999 1.764,-0.36 0.63599,10e-6 1.22399,0.12001 1.764,0.36 0.53999,0.22801 1.00199,0.55801 1.386,0.99 0.39599,0.43201 0.70199,0.954 0.918,1.566 0.21599,0.6 0.32399,1.266 0.324,1.998 m -1.746,0 c -10e-6,-1.056 -0.24001,-1.89 -0.72,-2.502 -0.46801,-0.62399 -1.11001,-0.93599 -1.926,-0.936 -0.816,10e-6 -1.464,0.31201 -1.944,0.936 -0.468,0.612 -0.702,1.446 -0.702,2.502 0,1.056 0.234,1.896 0.702,2.52 0.48,0.612 1.128,0.918 1.944,0.918 0.81599,0 1.45799,-0.306 1.926,-0.918 0.47999,-0.624 0.71999,-1.464 0.72,-2.52\" id=\"path4176\" inkscape:connector-curvature=\"0\" style=\"fill:#ffffff;stroke:none\"/>\n",
        "      <path d=\"m -99.081362,554.0148 c 0.383998,-0.096 0.887997,-0.19799 1.512,-0.306 0.635996,-0.10799 1.367995,-0.16199 2.196,-0.162 0.599994,1e-5 1.103993,0.084 1.512,0.252 0.407993,0.15601 0.749992,0.39001 1.026,0.702 0.08399,-0.06 0.215992,-0.14399 0.396,-0.252 0.179991,-0.10799 0.401991,-0.20999 0.666,-0.306 0.263991,-0.10799 0.55799,-0.19799 0.882,-0.27 0.32399,-0.084 0.671989,-0.12599 1.044,-0.126 0.719988,1e-5 1.307988,0.10801 1.764,0.324 0.455987,0.20401 0.809986,0.49801 1.062,0.882 0.263986,0.38401 0.437986,0.84 0.522,1.368 0.09599,0.528 0.143986,1.104 0.144,1.728 l 0,5.256 -1.674,0 0,-4.896 c -1.3e-5,-0.552 -0.03001,-1.026 -0.09,-1.422 -0.04801,-0.396 -0.150013,-0.726 -0.306,-0.99 -0.144012,-0.264 -0.348012,-0.45599 -0.612,-0.576 -0.252012,-0.13199 -0.582011,-0.19799 -0.99,-0.198 -0.56401,1e-5 -1.03201,0.078 -1.404,0.234 -0.360009,0.14401 -0.606009,0.276 -0.738,0.396 0.09599,0.312 0.167991,0.654 0.216,1.026 0.04799,0.372 0.07199,0.762 0.072,1.17 l 0,5.256 -1.674,0 0,-4.896 c -7e-6,-0.552 -0.03001,-1.026 -0.09,-1.422 -0.06001,-0.396 -0.168007,-0.726 -0.324,-0.99 -0.144007,-0.264 -0.348007,-0.45599 -0.612,-0.576 -0.252006,-0.13199 -0.576006,-0.19799 -0.972,-0.198 -0.168005,1e-5 -0.348005,0.006 -0.54,0.018 -0.192005,0.012 -0.378004,0.03 -0.558,0.054 -0.168004,0.012 -0.324004,0.03 -0.468,0.054 -0.144004,0.024 -0.240003,0.042 -0.288,0.054 l 0,7.902 -1.674,0 0,-9.09\" id=\"path4178\" inkscape:connector-curvature=\"0\" style=\"fill:#ffffff;stroke:none\"/>\n",
        "      <path d=\"m -79.429019,554.0148 c 0.383999,-0.096 0.893998,-0.19799 1.53,-0.306 0.635997,-0.10799 1.367996,-0.16199 2.196,-0.162 0.743995,1e-5 1.361994,0.10801 1.854,0.324 0.491993,0.20401 0.881993,0.49801 1.17,0.882 0.299992,0.37201 0.509992,0.822 0.63,1.35 0.119992,0.528 0.179991,1.11 0.18,1.746 l 0,5.256 -1.674,0 0,-4.896 c -7e-6,-0.576 -0.04201,-1.068 -0.126,-1.476 -0.07201,-0.408 -0.198007,-0.738 -0.378,-0.99 -0.180006,-0.252 -0.420006,-0.43199 -0.72,-0.54 -0.300005,-0.11999 -0.672005,-0.17999 -1.116,-0.18 -0.180004,1e-5 -0.366004,0.006 -0.558,0.018 -0.192004,0.012 -0.378004,0.03 -0.558,0.054 -0.168003,0.012 -0.324003,0.03 -0.468,0.054 -0.132003,0.024 -0.228003,0.042 -0.288,0.054 l 0,7.902 -1.674,0 0,-9.09\" id=\"path4180\" inkscape:connector-curvature=\"0\" style=\"fill:#ffffff;stroke:none\"/>\n",
        "      <path d=\"m -65.925081,561.8988 c 0.395995,0 0.743995,-0.006 1.044,-0.018 0.311994,-0.024 0.569994,-0.06 0.774,-0.108 l 0,-2.79 c -0.120006,-0.06 -0.318006,-0.108 -0.594,-0.144 -0.264006,-0.048 -0.588005,-0.072 -0.972,-0.072 -0.252005,0 -0.522004,0.018 -0.81,0.054 -0.276004,0.036 -0.534004,0.114 -0.774,0.234 -0.228003,0.108 -0.420003,0.264 -0.576,0.468 -0.156003,0.192 -0.234003,0.45 -0.234,0.774 -3e-6,0.6 0.191997,1.02 0.576,1.26 0.383997,0.228 0.905996,0.342 1.566,0.342 m -0.144,-8.388 c 0.671995,10e-6 1.235994,0.09 1.692,0.27 0.467993,0.16801 0.839993,0.41401 1.116,0.738 0.287992,0.31201 0.491992,0.69001 0.612,1.134 0.119992,0.432 0.179992,0.912 0.18,1.44 l 0,5.85 c -0.144008,0.024 -0.348008,0.06 -0.612,0.108 -0.252007,0.036 -0.540007,0.072 -0.864,0.108 -0.324006,0.036 -0.678006,0.066 -1.062,0.09 -0.372005,0.036 -0.744005,0.054 -1.116,0.054 -0.528004,0 -1.014003,-0.054 -1.458,-0.162 -0.444003,-0.108 -0.828002,-0.276 -1.152,-0.504 -0.324002,-0.24 -0.576001,-0.552 -0.756,-0.936 -0.180001,-0.384 -0.270001,-0.846 -0.27,-1.386 -1e-6,-0.516 0.101999,-0.96 0.306,-1.332 0.215999,-0.372 0.503998,-0.672 0.864,-0.9 0.359998,-0.228 0.779997,-0.396 1.26,-0.504 0.479996,-0.108 0.983996,-0.162 1.512,-0.162 0.167995,0 0.341995,0.012 0.522,0.036 0.179995,0.012 0.347994,0.036 0.504,0.072 0.167994,0.024 0.311994,0.048 0.432,0.072 0.119994,0.024 0.203994,0.042 0.252,0.054 l 0,-0.468 c -6e-6,-0.276 -0.03001,-0.546 -0.09,-0.81 -0.06001,-0.276 -0.168006,-0.516 -0.324,-0.72 -0.156006,-0.21599 -0.372006,-0.38399 -0.648,-0.504 -0.264005,-0.13199 -0.612005,-0.19799 -1.044,-0.198 -0.552004,1e-5 -1.038003,0.042 -1.458,0.126 -0.408003,0.072 -0.714002,0.15001 -0.918,0.234 l -0.198,-1.386 c 0.215998,-0.096 0.575998,-0.18599 1.08,-0.27 0.503997,-0.096 1.049996,-0.14399 1.638,-0.144\" id=\"path4182\" inkscape:connector-curvature=\"0\" style=\"fill:#ffffff;stroke:none\"/>\n",
        "      <path d=\"m -52.668351,553.7448 c -0.468009,1.752 -1.020008,3.432 -1.656,5.04 -0.624007,1.608 -1.230006,3.048 -1.818,4.32 l -1.512,0 c -0.588003,-1.272 -1.200003,-2.712 -1.836,-4.32 -0.624002,-1.608 -1.170001,-3.288 -1.638,-5.04 l 1.8,0 c 0.143997,0.58801 0.311997,1.21801 0.504,1.89 0.203997,0.66 0.413997,1.32 0.63,1.98 0.227996,0.648 0.455996,1.278 0.684,1.89 0.227996,0.612 0.443995,1.158 0.648,1.638 0.203995,-0.48 0.419995,-1.026 0.648,-1.638 0.227994,-0.612 0.449994,-1.242 0.666,-1.89 0.227994,-0.66 0.437993,-1.32 0.63,-1.98 0.203993,-0.67199 0.377993,-1.30199 0.522,-1.89 l 1.728,0\" id=\"path4184\" inkscape:connector-curvature=\"0\" style=\"fill:#ffffff;stroke:none\"/>\n",
        "    </g>\n",
        "    <text clip-path=\"url(#clipPath4123)\" id=\"text6050-7-2\" sodipodi:linespacing=\"125%\" style=\"font-size:18px;font-style:normal;font-variant:normal;font-weight:normal;font-stretch:normal;text-align:end;line-height:125%;letter-spacing:0px;word-spacing:0px;text-anchor:end;fill:#b3b3b3;fill-opacity:1;stroke:none;font-family:Ubuntu;-inkscape-font-specification:Ubuntu\" transform=\"translate(1.5029099,-3.49903)\" x=\"163.1434\" xml:space=\"preserve\" y=\"565.89441\"><tspan id=\"tspan4076\" sodipodi:role=\"line\" x=\"163.1434\" y=\"565.89441\">base nav</tspan></text>\n",
        "    <path d=\"M 413.25912,378.27166 C 384.30949,376.03578 356.93043,361.02887 337.23634,340.19527 259.62756,258.09601 288.23407,127.69322 354.44336,48.808638 393.60539,2.1493116 446.33424,-32.019023 503.69216,-51.916549\" id=\"path3053-1\" sodipodi:argument=\"-16.702385\" sodipodi:cx=\"490.5\" sodipodi:cy=\"342.48718\" sodipodi:expansion=\"1\" sodipodi:radius=\"394.6243\" sodipodi:revolution=\"0.41358861\" sodipodi:t0=\"0.2157177\" sodipodi:type=\"spiral\" style=\"fill:none;stroke:#4d4d4d;stroke-width:1.88815618;stroke-linecap:butt;stroke-linejoin:miter;stroke-miterlimit:4;stroke-opacity:1;stroke-dasharray:none;marker-start:url(#TriangleInL)\" transform=\"matrix(1.2117568,-0.02429795,0.11308466,0.22920989,-511.65999,218.46626)\"/>\n",
        "    <text id=\"text4461-1\" sodipodi:linespacing=\"99.000001%\" style=\"font-size:24px;font-style:normal;font-variant:normal;font-weight:normal;font-stretch:normal;text-align:start;line-height:99.00000095%;letter-spacing:0px;word-spacing:0px;text-anchor:start;fill:#4d4d4d;fill-opacity:1;stroke:none;font-family:Ubuntu;-inkscape-font-specification:Ubuntu\" x=\"88.481918\" xml:space=\"preserve\" y=\"188.36218\"><tspan id=\"tspan4465-5\" sodipodi:role=\"line\" style=\"font-style:normal;font-variant:normal;font-weight:normal;font-stretch:normal;text-align:start;text-anchor:start;fill:#4d4d4d;font-family:Ubuntu;-inkscape-font-specification:Ubuntu\" x=\"88.481918\" y=\"188.36218\">custom nav</tspan><tspan id=\"tspan4250\" sodipodi:role=\"line\" style=\"font-style:normal;font-variant:normal;font-weight:normal;font-stretch:normal;text-align:start;text-anchor:start;fill:#4d4d4d;font-family:Ubuntu;-inkscape-font-specification:Ubuntu\" x=\"88.481918\" y=\"212.12218\">override</tspan></text>\n",
        "  </g>\n",
        "</svg>"
       ],
       "text": [
        "<IPython.core.display.SVG at 0x20dcc90>"
       ]
      }
     ],
     "prompt_number": 8
    },
    {
     "cell_type": "markdown",
     "metadata": {},
     "source": [
      "Each block is defined in a separate HTML file that the template system stitches together to produce the final rendered HTML. This is pretty normal fare for template systems; the special sauce that we are going to add is a custom template resolver that knows how to look for templates contained in a configurable *set* of locations rather than a single template directory. The resolution process requires us to define the **template roots**, the packages containing the various collections of templates, and the **resolution order**, which determines the precedence that will be used when searching the various packages for templates. As an example, the `setup.py` file shown above defines three template roots in the imaginatively-named `templates` namespace that correspond to three packages in the sample code:"
     ]
    },
    {
     "cell_type": "code",
     "collapsed": false,
     "input": [
      "!tree -P \"*.html\" client_custom shared_lib base_app"
     ],
     "language": "python",
     "metadata": {},
     "outputs": [
      {
       "output_type": "stream",
       "stream": "stdout",
       "text": [
        "\u001b[01;34mclient_custom\u001b[00m\r\n",
        "\u2514\u2500\u2500 \u001b[01;34mtemplates\u001b[00m\r\n",
        "    \u2514\u2500\u2500 nav.html\r\n",
        "\u001b[01;34mshared_lib\u001b[00m\r\n",
        "\u2514\u2500\u2500 \u001b[01;34mtemplates\u001b[00m\r\n",
        "    \u2514\u2500\u2500 jumbo.html\r\n",
        "\u001b[01;34mbase_app\u001b[00m\r\n",
        "\u2514\u2500\u2500 \u001b[01;34mtemplates\u001b[00m\r\n",
        "    \u251c\u2500\u2500 \u001b[01;34madmin\u001b[00m\r\n",
        "    \u2502\u00a0\u00a0 \u2514\u2500\u2500 index.html\r\n",
        "    \u251c\u2500\u2500 index.html\r\n",
        "    \u251c\u2500\u2500 jumbo.html\r\n",
        "    \u2514\u2500\u2500 nav.html\r\n",
        "\r\n",
        "4 directories, 6 files\r\n"
       ]
      }
     ],
     "prompt_number": 9
    },
    {
     "cell_type": "markdown",
     "metadata": {},
     "source": [
      "Note that the three packages share a common directory structure; overriding a template means placing a file with the same name at the same location in a template package with higher resolution precedence. For the sake of convenience the example houses all of these packages in the same distribution, but an actual application would likely organize things into separate, independently installable distributions.\n",
      "\n",
      "To perform template resolution, we need to \n",
      "\n",
      "1. Determine the namespace that houses the template plugins, the extension names to use, and the resolution order. In our production system, we use a fixed shared namespace (`templates`) and each application deployment determines the extension names and resolution order from configuration\n",
      "\n",
      "2. Create an `ExtensionManager` instance to load the template plugin packages. `stevedore`'s `NamedExtensionManager` matches our use case perfectly, allowing an application to supply a named list of extensions to use within a given namespace. This means that we can  organize our packages as needed given that the actual use of a plugin will be set explicitly\n",
      "\n",
      "3. At resolution time, search the list of extensions for the requested template name, returning the first one found. We use package relative naming: the template name `admin.index` means \"search for the template named `index.html` in *plugin_package*.admin, where *plugin_package* is expanded to each of the plugins in turn.\" With a little tweaking, the same idea could be used with path-based naming if that is more your thing.\n",
      "\n",
      "And again, in Python: "
     ]
    },
    {
     "cell_type": "code",
     "collapsed": false,
     "input": [
      "from resolver import TemplateResolver\n",
      "\n",
      "# step 1: define the plugins we want to look for templates in and the resolution order\n",
      "plugin_names = ['client_custom', 'shared', 'base']\n",
      "\n",
      "# step 2: create the ExtensionManager (part of the constructor, hang tight)\n",
      "resolve = TemplateResolver(plugin_names)\n",
      "\n",
      "# step 3: resolve a template name to a file path\n",
      "resolve('index')"
     ],
     "language": "python",
     "metadata": {},
     "outputs": [
      {
       "metadata": {},
       "output_type": "pyout",
       "prompt_number": 7,
       "text": [
        "'base_app/templates/index.html'"
       ]
      }
     ],
     "prompt_number": 7
    },
    {
     "cell_type": "markdown",
     "metadata": {},
     "source": [
      "Remember that blaring trumpet sound that Windows used to start with? That belongs here: Ta Da! Amazing!\n",
      "\n",
      "Here's a juicier example that shows off overriding, with `nav` being pulled from the client custom package and the jumbotron from a shared library of templates: "
     ]
    },
    {
     "cell_type": "code",
     "collapsed": false,
     "input": [
      "templates = [(template, resolve(template)) for template in ('nav', 'jumbo', 'admin.index')]\n",
      "\n",
      "pd.DataFrame(templates, columns=['template_name', 'resolved_template'])"
     ],
     "language": "python",
     "metadata": {},
     "outputs": [
      {
       "html": [
        "<div style=\"max-height:1000px;max-width:1500px;overflow:auto;\">\n",
        "<table border=\"1\" class=\"dataframe\">\n",
        "  <thead>\n",
        "    <tr style=\"text-align: right;\">\n",
        "      <th></th>\n",
        "      <th>template_name</th>\n",
        "      <th>resolved_template</th>\n",
        "    </tr>\n",
        "  </thead>\n",
        "  <tbody>\n",
        "    <tr>\n",
        "      <th>0</th>\n",
        "      <td>         nav</td>\n",
        "      <td>    client_custom/templates/nav.html</td>\n",
        "    </tr>\n",
        "    <tr>\n",
        "      <th>1</th>\n",
        "      <td>       jumbo</td>\n",
        "      <td>     shared_lib/templates/jumbo.html</td>\n",
        "    </tr>\n",
        "    <tr>\n",
        "      <th>2</th>\n",
        "      <td> admin.index</td>\n",
        "      <td> base_app/templates/admin/index.html</td>\n",
        "    </tr>\n",
        "  </tbody>\n",
        "</table>\n",
        "<p>3 rows \u00d7 2 columns</p>\n",
        "</div>"
       ],
       "metadata": {},
       "output_type": "pyout",
       "prompt_number": 11,
       "text": [
        "  template_name                    resolved_template\n",
        "0           nav     client_custom/templates/nav.html\n",
        "1         jumbo      shared_lib/templates/jumbo.html\n",
        "2   admin.index  base_app/templates/admin/index.html\n",
        "\n",
        "[3 rows x 2 columns]"
       ]
      }
     ],
     "prompt_number": 11
    },
    {
     "cell_type": "markdown",
     "metadata": {},
     "source": [
      "and to continue beating things so they are good and dead, here's what would happen if you changed the list of plugins to use: "
     ]
    },
    {
     "cell_type": "code",
     "collapsed": false,
     "input": [
      "plugin_names = ['base']\n",
      "resolve = TemplateResolver(plugin_names)\n",
      "\n",
      "resolve('nav')"
     ],
     "language": "python",
     "metadata": {},
     "outputs": [
      {
       "metadata": {},
       "output_type": "pyout",
       "prompt_number": 9,
       "text": [
        "'base_app/templates/nav.html'"
       ]
      }
     ],
     "prompt_number": 9
    },
    {
     "cell_type": "markdown",
     "metadata": {},
     "source": [
      "Note that we haven't changed anything about the deployment or plugin set up at all, merely the list of extensions we want to select from the universe of available plugins in the namespace."
     ]
    },
    {
     "cell_type": "heading",
     "level": 3,
     "metadata": {},
     "source": [
      "But dan, how does it all work?"
     ]
    },
    {
     "cell_type": "markdown",
     "metadata": {},
     "source": [
      "Here's the payoff: `stevedore` makes implementing the ideas I've described here remarkably simple. Check it:"
     ]
    },
    {
     "cell_type": "code",
     "collapsed": false,
     "input": [
      "%load -r 20-40 ./resolver/__init__.py"
     ],
     "language": "python",
     "metadata": {},
     "outputs": [],
     "prompt_number": 5
    },
    {
     "cell_type": "code",
     "collapsed": false,
     "input": [
      "class TemplateResolver(object):\n",
      "    def __init__(self, template_modules, namespace='templates'):\n",
      "        self.template_modules = template_modules\n",
      "        self.extension_manager = NamedExtensionManager(namespace,\n",
      "                                                       template_modules,\n",
      "                                                       name_order=True)\n",
      "\n",
      "    def __call__(self, name):\n",
      "        package_suffix, target_file, join = self._process_name(name)\n",
      "\n",
      "        for extension in self.extension_manager.extensions:\n",
      "            target_package = join((extension.entry_point.module_name,\n",
      "                                   package_suffix))\n",
      "\n",
      "            if resource_exists(target_package, target_file):\n",
      "                return resource_filename(target_package, target_file)\n",
      "        else:\n",
      "            raise ValueError(\n",
      "                'Could not locate template \"{}\" in any loaded template '\n",
      "                'module: {}'.format(name, self.template_modules))\n"
     ],
     "language": "python",
     "metadata": {},
     "outputs": []
    },
    {
     "cell_type": "markdown",
     "metadata": {},
     "source": [
      "Yep. That's it: lines 4\u20136 initialize the extension manager (our step #2 above), and lines 11\u201316 are the heart of the resolver (step #3). The `NamedExtensionManager` provides two helpful features for this use case. First, it filters all of the available extensions within a namespace to an explicitly-declared list, which allows us to specify the desired template roots in configuration. It also allows you to impose an ordering for the extensions: setting `name_order=True` means that the extensions will be returned from the manager in the same order as the name list we supply to the manager's constructor (without this option we would get arbitrary ordering: entry point load order is effectively undefined from an application's perspective).\n",
      "\n",
      "Resolution is straightforward: after processing the requested name to handle dotted package paths (line 9), the resolver loops through the enabled extensions and looks to see if the package referenced by the extension contains the requested file. As soon as there's a match, resolution ends by returning the file path of the requested template (`resource_exists` and `resource_filename` are functions for looking up files contained within Python packages; both are provided by `pkg_resources`). \n",
      "\n",
      "If no package contains the requested template, an exception is raised; the exception's message contains the list of activated template packages, as misconfiguration here is the most common source of failure we run into:"
     ]
    },
    {
     "cell_type": "code",
     "collapsed": false,
     "input": [
      "resolve('notgonnawork')"
     ],
     "language": "python",
     "metadata": {},
     "outputs": [
      {
       "ename": "ValueError",
       "evalue": "Could not locate template \"notgonnawork\" in any loaded template module: ['base']",
       "output_type": "pyerr",
       "traceback": [
        "\u001b[1;31m---------------------------------------------------------------------------\u001b[0m\n\u001b[1;31mValueError\u001b[0m                                Traceback (most recent call last)",
        "\u001b[1;32m<ipython-input-10-6e96b4ec4eb9>\u001b[0m in \u001b[0;36m<module>\u001b[1;34m()\u001b[0m\n\u001b[1;32m----> 1\u001b[1;33m \u001b[0mresolve\u001b[0m\u001b[1;33m(\u001b[0m\u001b[1;34m'notgonnawork'\u001b[0m\u001b[1;33m)\u001b[0m\u001b[1;33m\u001b[0m\u001b[0m\n\u001b[0m",
        "\u001b[1;32m/home/dan/source/posts/stevedore_template_resolver/resolver/__init__.pyc\u001b[0m in \u001b[0;36m__call__\u001b[1;34m(self, name)\u001b[0m\n\u001b[0;32m     37\u001b[0m             raise ValueError(\n\u001b[0;32m     38\u001b[0m                 \u001b[1;34m'Could not locate template \"{}\" in any loaded template '\u001b[0m\u001b[1;33m\u001b[0m\u001b[0m\n\u001b[1;32m---> 39\u001b[1;33m                 'module: {}'.format(name, self.template_modules))\n\u001b[0m\u001b[0;32m     40\u001b[0m \u001b[1;33m\u001b[0m\u001b[0m\n\u001b[0;32m     41\u001b[0m     \u001b[1;32mdef\u001b[0m \u001b[0m_process_name\u001b[0m\u001b[1;33m(\u001b[0m\u001b[0mself\u001b[0m\u001b[1;33m,\u001b[0m \u001b[0mname\u001b[0m\u001b[1;33m)\u001b[0m\u001b[1;33m:\u001b[0m\u001b[1;33m\u001b[0m\u001b[0m\n",
        "\u001b[1;31mValueError\u001b[0m: Could not locate template \"notgonnawork\" in any loaded template module: ['base']"
       ]
      }
     ],
     "prompt_number": 10
    },
    {
     "cell_type": "code",
     "collapsed": false,
     "input": [
      "%load?"
     ],
     "language": "python",
     "metadata": {},
     "outputs": [],
     "prompt_number": 2
    }
   ],
   "metadata": {}
  }
 ]
}