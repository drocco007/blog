{
 "cells": [
  {
   "cell_type": "markdown",
   "metadata": {},
   "source": [
    "# Building a `.format` Nanny with Python's AST\n",
    "\n",
    "##### In which we detect problematic `.format` calls quickly and painlessly using Python's powerful `ast` module.\n",
    "\n",
    "The issue: where I work, we are still a Python 2 shop owing to technical debt and legacy dependencies. As you might expect, painful Unicode-related problems surface in our applications from time to time. A fairly typical example runs something like this: a developer writes some code to format the data into a string, using the convenient and powerful `.format` method supported by all string objects:"
   ]
  },
  {
   "cell_type": "code",
   "execution_count": 2,
   "metadata": {
    "collapsed": true
   },
   "outputs": [],
   "source": [
    "def pretty_format(some_data):\n",
    "    return 'Hello, {}!'.format(some_data)"
   ]
  },
  {
   "cell_type": "markdown",
   "metadata": {},
   "source": [
    "Through the course of our exhaustive testing, we prove that this function is correct over a wide range of inputs:"
   ]
  },
  {
   "cell_type": "code",
   "execution_count": 3,
   "metadata": {
    "collapsed": false
   },
   "outputs": [
    {
     "name": "stdout",
     "output_type": "stream",
     "text": [
      "Hello, world!\n"
     ]
    }
   ],
   "source": [
    "print pretty_format('world')"
   ]
  },
  {
   "cell_type": "markdown",
   "metadata": {},
   "source": [
    "The code ships. Months pass without incident, our `pretty_format` routine prettily formatting every bit of data thrown its way. Lulled into complacency through our enjoyment of our apparent success, we move on to other tasks. One day, everything comes to a screeching halt as, completely unprepared, we receive one of the most dreaded error messages in all of software development:\n",
    "\n",
    "    UnicodeDecodeError: 'ascii' codec can't decode byte 0xc3 in position 8: ordinal not in range(128)\n",
    "\n",
    "Here's what happened: much of the data that flows through this format template and others like it is simple ASCII-valued information: dates, simple US addresses, phone numbers, and the like. Having used Python 2 for many years, we are habituated to spell strings, including our template formatting strings, using the simple single quote\n",
    "\n",
    "    'a typical string'\n",
    "\n",
    "What happens, though, when our user data contains an accented character or other non-ASCII symbol?"
   ]
  },
  {
   "cell_type": "code",
   "execution_count": 4,
   "metadata": {
    "collapsed": false
   },
   "outputs": [
    {
     "ename": "UnicodeEncodeError",
     "evalue": "'ascii' codec can't encode character u'\\xc9' in position 8: ordinal not in range(128)",
     "output_type": "error",
     "traceback": [
      "\u001b[1;31m---------------------------------------------------------------------------\u001b[0m",
      "\u001b[1;31mUnicodeEncodeError\u001b[0m                        Traceback (most recent call last)",
      "\u001b[1;32m<ipython-input-4-3d955b7228e5>\u001b[0m in \u001b[0;36m<module>\u001b[1;34m()\u001b[0m\n\u001b[0;32m      1\u001b[0m \u001b[0mfull_name\u001b[0m \u001b[1;33m=\u001b[0m \u001b[1;34mu'Ariadne Éowyn'\u001b[0m\u001b[1;33m\u001b[0m\u001b[0m\n\u001b[1;32m----> 2\u001b[1;33m \u001b[1;32mprint\u001b[0m \u001b[0mpretty_format\u001b[0m\u001b[1;33m(\u001b[0m\u001b[0mfull_name\u001b[0m\u001b[1;33m)\u001b[0m\u001b[1;33m\u001b[0m\u001b[0m\n\u001b[0m",
      "\u001b[1;32m<ipython-input-2-51c87778ff71>\u001b[0m in \u001b[0;36mpretty_format\u001b[1;34m(some_data)\u001b[0m\n\u001b[0;32m      1\u001b[0m \u001b[1;32mdef\u001b[0m \u001b[0mpretty_format\u001b[0m\u001b[1;33m(\u001b[0m\u001b[0msome_data\u001b[0m\u001b[1;33m)\u001b[0m\u001b[1;33m:\u001b[0m\u001b[1;33m\u001b[0m\u001b[0m\n\u001b[1;32m----> 2\u001b[1;33m     \u001b[1;32mreturn\u001b[0m \u001b[1;34m'Hello, {}!'\u001b[0m\u001b[1;33m.\u001b[0m\u001b[0mformat\u001b[0m\u001b[1;33m(\u001b[0m\u001b[0msome_data\u001b[0m\u001b[1;33m)\u001b[0m\u001b[1;33m\u001b[0m\u001b[0m\n\u001b[0m",
      "\u001b[1;31mUnicodeEncodeError\u001b[0m: 'ascii' codec can't encode character u'\\xc9' in position 8: ordinal not in range(128)"
     ]
    }
   ],
   "source": [
    "full_name = u'Ariadne Éowyn'\n",
    "print pretty_format(full_name)"
   ]
  },
  {
   "cell_type": "markdown",
   "metadata": {},
   "source": [
    "Boom! Python detects the mismatch between the binary string template object and the Unicode data containing some multi-byte characters that simply cannot be represented in the target format. In other words, Python is refusing to guess what we want: do we prefer a binary expansion, and, if so, in what encoding? Should the accent characters simply be dropped? Do we want unexpected symbols to be translated into ASCII error characters? Python has no way of knowing which of these options is appropriate to the present situation, so it takes the only reasonable course and raises an exception.\n",
    "\n",
    "Many Unicode issues can be quite challenging to reconcile, but this case is rather simple: if the format string is specified in Unicode format — rather than as a plain binary string — this entire class of problem would be avoided:"
   ]
  },
  {
   "cell_type": "code",
   "execution_count": 5,
   "metadata": {
    "collapsed": false
   },
   "outputs": [
    {
     "name": "stdout",
     "output_type": "stream",
     "text": [
      "Hello, Ariadne Éowyn!\n"
     ]
    }
   ],
   "source": [
    "def pretty_format(some_data):\n",
    "    # Unicode object template prepares this routine to handle non-ASCII symbols\n",
    "    return u'Hello, {}!'.format(some_data)\n",
    "\n",
    "print pretty_format(full_name)"
   ]
  },
  {
   "cell_type": "markdown",
   "metadata": {},
   "source": [
    "But how do we know where the problematic calls to `.format` are lurking in our code base without waiting for the next error to occur? Is there a way we could find these calls proactively, eliminating them from the system before they wreak havoc on our application?\n"
   ]
  },
  {
   "cell_type": "markdown",
   "metadata": {},
   "source": [
    "# What's an AST?"
   ]
  },
  {
   "cell_type": "markdown",
   "metadata": {},
   "source": [
    "# Getting started: trees and parse"
   ]
  },
  {
   "cell_type": "code",
   "execution_count": 6,
   "metadata": {
    "collapsed": true
   },
   "outputs": [],
   "source": [
    "import ast"
   ]
  },
  {
   "cell_type": "code",
   "execution_count": 7,
   "metadata": {
    "collapsed": true
   },
   "outputs": [],
   "source": [
    "a_variable = 2\n",
    "\n",
    "def foo():\n",
    "    another_variable = 2\n",
    "    \n",
    "    return a_variable + another_variable"
   ]
  },
  {
   "cell_type": "code",
   "execution_count": 8,
   "metadata": {
    "collapsed": false
   },
   "outputs": [
    {
     "data": {
      "text/plain": [
       "4"
      ]
     },
     "execution_count": 8,
     "metadata": {},
     "output_type": "execute_result"
    }
   ],
   "source": [
    "foo()"
   ]
  },
  {
   "cell_type": "code",
   "execution_count": 9,
   "metadata": {
    "collapsed": false,
    "scrolled": true
   },
   "outputs": [
    {
     "data": {
      "text/plain": [
       "\"Module(body=[Assign(targets=[Name(id='a_variable', ctx=Store())], value=Num(n=2)), FunctionDef(name='foo', args=arguments(args=[], vararg=None, kwarg=None, defaults=[]), body=[Assign(targets=[Name(id='another_variable', ctx=Store())], value=Num(n=2)), Return(value=BinOp(left=Name(id='a_variable', ctx=Load()), op=Add(), right=Name(id='another_variable', ctx=Load())))], decorator_list=[])])\""
      ]
     },
     "execution_count": 9,
     "metadata": {},
     "output_type": "execute_result"
    }
   ],
   "source": [
    "tree = ast.parse(\"\"\"a_variable = 2\n",
    "\n",
    "def foo():\n",
    "    another_variable = 2\n",
    "    \n",
    "    return a_variable + another_variable\"\"\")\n",
    "\n",
    "ast.dump(tree)"
   ]
  },
  {
   "cell_type": "markdown",
   "metadata": {},
   "source": [
    "    Module(body=[\n",
    "        Assign(targets=[Name(id='a_variable', ctx=Store())], value=Num(n=2)), \n",
    "        FunctionDef(name='foo', args=arguments(args=[], vararg=None, kwarg=None, defaults=[]), body=[\n",
    "            Assign(targets=[Name(id='another_variable', ctx=Store())], value=Num(n=2)), \n",
    "            Return(value=\n",
    "                BinOp(\n",
    "                    left=Name(id='a_variable', ctx=Load()), \n",
    "                    op=Add(), \n",
    "                    right=Name(id='another_variable', ctx=Load())))], \n",
    "            decorator_list=[])])\n"
   ]
  },
  {
   "cell_type": "markdown",
   "metadata": {},
   "source": [
    "# Visiting `.format`"
   ]
  },
  {
   "cell_type": "code",
   "execution_count": 10,
   "metadata": {
    "collapsed": true
   },
   "outputs": [],
   "source": [
    "tree = ast.parse(\"\"\"\n",
    "\n",
    "'Hello, {}!'.format('world')\n",
    "\n",
    "'  other string  '.trim()\n",
    "\n",
    "print len('asdf')\n",
    "\n",
    "[3, 1, 2].sort()\n",
    "\n",
    "\"\"\")"
   ]
  },
  {
   "cell_type": "code",
   "execution_count": 11,
   "metadata": {
    "collapsed": false
   },
   "outputs": [],
   "source": [
    "class FormatVisitor(ast.NodeVisitor):\n",
    "    def visit_Attribute(self, node):\n",
    "        print node.attr, node.value\n",
    "        self.generic_visit(node)"
   ]
  },
  {
   "cell_type": "code",
   "execution_count": 12,
   "metadata": {
    "collapsed": false
   },
   "outputs": [
    {
     "name": "stdout",
     "output_type": "stream",
     "text": [
      "format <_ast.Str object at 0x7f7573fd6790>\n",
      "trim <_ast.Str object at 0x7f7573328390>\n",
      "sort <_ast.List object at 0x7f75733285d0>\n"
     ]
    }
   ],
   "source": [
    "FormatVisitor().visit(tree)"
   ]
  },
  {
   "cell_type": "code",
   "execution_count": 13,
   "metadata": {
    "collapsed": false
   },
   "outputs": [],
   "source": [
    "class FormatVisitor(ast.NodeVisitor):\n",
    "    def visit_Attribute(self, node):\n",
    "        if node.attr == 'format':\n",
    "            print node.attr, node.value\n",
    "            print node.value.__dict__\n",
    "        self.generic_visit(node)"
   ]
  },
  {
   "cell_type": "code",
   "execution_count": 14,
   "metadata": {
    "collapsed": false
   },
   "outputs": [
    {
     "name": "stdout",
     "output_type": "stream",
     "text": [
      "format <_ast.Str object at 0x7f7573fd6790>\n",
      "{'s': 'Hello, {}!', 'lineno': 3, 'col_offset': 0}\n"
     ]
    }
   ],
   "source": [
    "FormatVisitor().visit(tree)"
   ]
  },
  {
   "cell_type": "code",
   "execution_count": 15,
   "metadata": {
    "collapsed": true
   },
   "outputs": [],
   "source": [
    "class FormatVisitor(ast.NodeVisitor):\n",
    "    def visit_Attribute(self, node):\n",
    "        if node.attr == 'format':\n",
    "            _str = repr(node.value.s)\n",
    "\n",
    "            if _str[0] != 'u':\n",
    "                print u'{}: {}'.format(node.lineno, _str)\n",
    "\n",
    "        self.generic_visit(node)"
   ]
  },
  {
   "cell_type": "code",
   "execution_count": 16,
   "metadata": {
    "collapsed": false
   },
   "outputs": [
    {
     "name": "stdout",
     "output_type": "stream",
     "text": [
      "3: 'Hello, {}!'\n"
     ]
    }
   ],
   "source": [
    "FormatVisitor().visit(tree)"
   ]
  },
  {
   "cell_type": "markdown",
   "metadata": {},
   "source": [
    "# Both No and Yes"
   ]
  },
  {
   "cell_type": "markdown",
   "metadata": {},
   "source": [
    "# Disturbing Dynamism"
   ]
  },
  {
   "cell_type": "code",
   "execution_count": 17,
   "metadata": {
    "collapsed": false
   },
   "outputs": [
    {
     "name": "stdout",
     "output_type": "stream",
     "text": [
      "Ariadne Éowyn\n",
      "Hello, Ariadne Éowyn!\n"
     ]
    },
    {
     "data": {
      "text/plain": [
       "('Ariadne \\xc3\\x89owyn', u'Ariadne \\xc9owyn')"
      ]
     },
     "execution_count": 17,
     "metadata": {},
     "output_type": "execute_result"
    }
   ],
   "source": [
    "d = 'Ariadne Éowyn'\n",
    "du = d.decode('utf-8')\n",
    "\n",
    "print du\n",
    "print u'Hello, {}!'.format(du)\n",
    "d, du"
   ]
  },
  {
   "cell_type": "code",
   "execution_count": 18,
   "metadata": {
    "collapsed": false
   },
   "outputs": [
    {
     "name": "stdout",
     "output_type": "stream",
     "text": [
      "Ariadne Éowyn\n",
      "Hello, Ariadne Éowyn!\n",
      "u'Hello, Ariadne \\xc9owyn!'\n"
     ]
    },
    {
     "data": {
      "text/plain": [
       "u'Ariadne \\xc9owyn'"
      ]
     },
     "execution_count": 18,
     "metadata": {},
     "output_type": "execute_result"
    }
   ],
   "source": [
    "u = u'Ariadne Éowyn'\n",
    "\n",
    "print u\n",
    "print u'Hello, {}!'.format(u)\n",
    "print repr(u'Hello, {}!'.format(u))\n",
    "u"
   ]
  },
  {
   "cell_type": "code",
   "execution_count": 19,
   "metadata": {
    "collapsed": false
   },
   "outputs": [
    {
     "data": {
      "text/plain": [
       "'Ariadne \\xc3\\x89owyn'"
      ]
     },
     "execution_count": 19,
     "metadata": {},
     "output_type": "execute_result"
    }
   ],
   "source": [
    "u.encode('utf-8')"
   ]
  },
  {
   "cell_type": "code",
   "execution_count": 20,
   "metadata": {
    "collapsed": false
   },
   "outputs": [
    {
     "data": {
      "text/plain": [
       "'Ariadne \\xc3\\x89owyn'"
      ]
     },
     "execution_count": 20,
     "metadata": {},
     "output_type": "execute_result"
    }
   ],
   "source": [
    "d"
   ]
  },
  {
   "cell_type": "code",
   "execution_count": 21,
   "metadata": {
    "collapsed": false
   },
   "outputs": [
    {
     "ename": "UnicodeEncodeError",
     "evalue": "'ascii' codec can't encode character u'\\xc9' in position 8: ordinal not in range(128)",
     "output_type": "error",
     "traceback": [
      "\u001b[1;31m---------------------------------------------------------------------------\u001b[0m",
      "\u001b[1;31mUnicodeEncodeError\u001b[0m                        Traceback (most recent call last)",
      "\u001b[1;32m<ipython-input-21-d268fc23b602>\u001b[0m in \u001b[0;36m<module>\u001b[1;34m()\u001b[0m\n\u001b[1;32m----> 1\u001b[1;33m \u001b[1;32mprint\u001b[0m \u001b[1;34m'{}'\u001b[0m\u001b[1;33m.\u001b[0m\u001b[0mformat\u001b[0m\u001b[1;33m(\u001b[0m\u001b[0mu\u001b[0m\u001b[1;33m)\u001b[0m\u001b[1;33m\u001b[0m\u001b[0m\n\u001b[0m",
      "\u001b[1;31mUnicodeEncodeError\u001b[0m: 'ascii' codec can't encode character u'\\xc9' in position 8: ordinal not in range(128)"
     ]
    }
   ],
   "source": [
    "print '{}'.format(u)"
   ]
  },
  {
   "cell_type": "code",
   "execution_count": 22,
   "metadata": {
    "collapsed": false
   },
   "outputs": [
    {
     "name": "stdout",
     "output_type": "stream",
     "text": [
      "Ariadne Éowyn\n"
     ]
    }
   ],
   "source": [
    "print '{}'.format(u.encode('utf-8'))"
   ]
  },
  {
   "cell_type": "code",
   "execution_count": null,
   "metadata": {
    "collapsed": true
   },
   "outputs": [],
   "source": []
  },
  {
   "cell_type": "code",
   "execution_count": null,
   "metadata": {
    "collapsed": true
   },
   "outputs": [],
   "source": []
  },
  {
   "cell_type": "code",
   "execution_count": null,
   "metadata": {
    "collapsed": true
   },
   "outputs": [],
   "source": []
  },
  {
   "cell_type": "code",
   "execution_count": 24,
   "metadata": {
    "collapsed": false
   },
   "outputs": [
    {
     "data": {
      "text/plain": [
       "\"Module(body=[ImportFrom(module='__future__', names=[alias(name='unicode_literals', asname=None)], level=0)])\""
      ]
     },
     "execution_count": 24,
     "metadata": {},
     "output_type": "execute_result"
    }
   ],
   "source": [
    "tree = ast.parse(\"\"\"\n",
    "\n",
    "from __future__ import unicode_literals\n",
    "\n",
    "\"\"\")\n",
    "\n",
    "ast.dump(tree)"
   ]
  },
  {
   "cell_type": "code",
   "execution_count": 45,
   "metadata": {
    "collapsed": false
   },
   "outputs": [],
   "source": [
    "class FutureVisitor(ast.NodeVisitor):\n",
    "    def __init__(self):\n",
    "        super(FutureVisitor, self).__init__()\n",
    "        self.has_future_import = False\n",
    "        \n",
    "    def visit_ImportFrom(self, node):\n",
    "        if node.module == '__future__':\n",
    "            names = [name.name for name in node.names]\n",
    "            self.has_future_import = 'unicode_literals' in names\n",
    "            print node.names, self.has_future_import\n",
    "            print node.__dict__\n",
    "        self.generic_visit(node)\n",
    "        \n",
    "def has_future_import(src):\n",
    "    tree = ast.parse(src)\n",
    "    visitor = FutureVisitor()\n",
    "    visitor.visit(tree)\n",
    "    return visitor.has_future_import"
   ]
  },
  {
   "cell_type": "code",
   "execution_count": 46,
   "metadata": {
    "collapsed": false
   },
   "outputs": [
    {
     "name": "stdout",
     "output_type": "stream",
     "text": [
      "[<_ast.alias object at 0x7f7573328390>] True\n",
      "{'lineno': 3, 'col_offset': 0, 'names': [<_ast.alias object at 0x7f7573328390>], 'module': '__future__', 'level': 0}\n"
     ]
    }
   ],
   "source": [
    "FutureVisitor().visit(tree)"
   ]
  },
  {
   "cell_type": "code",
   "execution_count": 47,
   "metadata": {
    "collapsed": false
   },
   "outputs": [
    {
     "name": "stdout",
     "output_type": "stream",
     "text": [
      "[<_ast.alias object at 0x7f7573328f50>] True\n",
      "{'lineno': 3, 'col_offset': 0, 'names': [<_ast.alias object at 0x7f7573328f50>], 'module': '__future__', 'level': 0}\n"
     ]
    },
    {
     "data": {
      "text/plain": [
       "True"
      ]
     },
     "execution_count": 47,
     "metadata": {},
     "output_type": "execute_result"
    }
   ],
   "source": [
    "has_future_import(\"\"\"\n",
    "\n",
    "from __future__ import unicode_literals\n",
    "\n",
    "\"\"\")"
   ]
  },
  {
   "cell_type": "code",
   "execution_count": 48,
   "metadata": {
    "collapsed": false
   },
   "outputs": [
    {
     "name": "stdout",
     "output_type": "stream",
     "text": [
      "[<_ast.alias object at 0x7f7573328c10>, <_ast.alias object at 0x7f7573328450>] True\n",
      "{'lineno': 3, 'col_offset': 0, 'names': [<_ast.alias object at 0x7f7573328c10>, <_ast.alias object at 0x7f7573328450>], 'module': '__future__', 'level': 0}\n"
     ]
    },
    {
     "data": {
      "text/plain": [
       "True"
      ]
     },
     "execution_count": 48,
     "metadata": {},
     "output_type": "execute_result"
    }
   ],
   "source": [
    "has_future_import(\"\"\"\n",
    "\n",
    "from __future__ import print_function, unicode_literals\n",
    "\n",
    "\"\"\")"
   ]
  },
  {
   "cell_type": "code",
   "execution_count": 49,
   "metadata": {
    "collapsed": false
   },
   "outputs": [
    {
     "data": {
      "text/plain": [
       "False"
      ]
     },
     "execution_count": 49,
     "metadata": {},
     "output_type": "execute_result"
    }
   ],
   "source": [
    "has_future_import(\"\"\"\n",
    "\n",
    "import sys\n",
    "\n",
    "\"\"\")"
   ]
  },
  {
   "cell_type": "markdown",
   "metadata": {},
   "source": [
    "### U Format, I Don't\n",
    "\n",
    "Proof of concept demonstrating how to detect `'…'.format(…)` calls in Python source.\n",
    "\n",
    "First, we need some stuff:"
   ]
  },
  {
   "cell_type": "markdown",
   "metadata": {},
   "source": [
    "Where are we again?"
   ]
  },
  {
   "cell_type": "code",
   "execution_count": 34,
   "metadata": {
    "collapsed": false
   },
   "outputs": [
    {
     "data": {
      "text/plain": [
       "u'/home/drocco/source/brightlink/brighttrac'"
      ]
     },
     "execution_count": 34,
     "metadata": {},
     "output_type": "execute_result"
    }
   ],
   "source": [
    "pwd"
   ]
  },
  {
   "cell_type": "markdown",
   "metadata": {},
   "source": [
    "From here, we need a way to find all of the Python files that we'd like to check."
   ]
  },
  {
   "cell_type": "code",
   "execution_count": 35,
   "metadata": {
    "collapsed": false
   },
   "outputs": [],
   "source": [
    "def all_pys():\n",
    "    \"\"\"Find all of the Python source files anywhere in the tree rooted at `.`\"\"\"\n",
    "    \n",
    "    for path, dirs, files in os.walk('.'):\n",
    "        files = [os.path.join(path, file) \n",
    "                 for file in fnmatch.filter(files, '*.py')]\n",
    "        for file in files:\n",
    "            yield file"
   ]
  },
  {
   "cell_type": "markdown",
   "metadata": {},
   "source": [
    "Then we need to check each one"
   ]
  },
  {
   "cell_type": "code",
   "execution_count": 44,
   "metadata": {
    "collapsed": false
   },
   "outputs": [],
   "source": [
    "def format_nanny(path):\n",
    "    \"\"\"Detect possibly bad `.format` calls in Python source.\n",
    "    \n",
    "    Given a Python source filename, find all of the calls to `.format` invoked\n",
    "    on plain str objects (`''`) rather than Unicode objects (`u''`). For each,\n",
    "    print out the path, line number, and string in question.\n",
    "    \n",
    "    \"\"\"\n",
    "    \n",
    "    src = open(path).read()\n",
    "    tree = ast.parse(src)\n",
    "\n",
    "    # this is quick and dirty, the correct approach is to use a \n",
    "    # Visitor subclass \n",
    "    attrs = [node for node in ast.walk(tree) \n",
    "             if isinstance(node, ast.Attribute) and node.attr == 'format']\n",
    "\n",
    "    for attr in attrs:\n",
    "        try:\n",
    "            _str = repr(attr.value.s)\n",
    "            \n",
    "            if _str[0] != 'u':\n",
    "                print '{} {}: {}'.format(path, attr.lineno, _str)\n",
    "        except:\n",
    "            pass"
   ]
  },
  {
   "cell_type": "markdown",
   "metadata": {},
   "source": [
    "#### Engage!"
   ]
  },
  {
   "cell_type": "code",
   "execution_count": 45,
   "metadata": {
    "collapsed": false
   },
   "outputs": [
    {
     "name": "stdout",
     "output_type": "stream",
     "text": [
      "./brighttrac2/model.py 62: '{}.model.model'\n",
      "./brighttrac2/migrate/__init__.py 121: ' {}\\n'\n",
      "./brighttrac2/migrate/migrators/model.py 42: '{}_{}'\n",
      "./brighttrac2/store/brighttrac_satchmo/utils.py 74: 'Invalid item, product, or slug: {0}'\n",
      "./brighttrac2/store/brighttrac_satchmo/listeners.py 58: 'dummy-{0}'\n",
      "./brighttrac2/store/brighttrac_satchmo/bt_job_queuer.py 67: 'Queuing job {}.{} to {} failed'\n",
      "./brighttrac2/store/brighttrac_satchmo/views.py 62: 'Could not add item \"{0}\" to cart'\n",
      "./brighttrac2/store/brighttrac_satchmo/views.py 136: 'No item found with ID {}.'\n",
      "./brighttrac2/store/brighttrac_satchmo/views.py 558: 'Payment with transaction ID {} settled on {}<br/>'\n",
      "./brighttrac2/store/brighttrac_satchmo/views.py 560: 'Payment with transaction ID {} not found, recording null settlement date'\n",
      "./brighttrac2/store/brighttrac_satchmo/api/model.py 48: ' ({})'\n",
      "./brighttrac2/store/brighttrac_satchmo/api/order.py 155: 'Transfered from User ({});'\n",
      "./brighttrac2/store/brighttrac_satchmo/api/order.py 125: 'Order {0} is already finalized'\n",
      "./brighttrac2/store/brighttrac_satchmo/api/order.py 135: 'Payment processor {0} requires payment information'\n",
      "./brighttrac2/store/brighttrac_satchmo/tax/avatax/processor.py 152: 'rate: {}, taxable amount: {}'\n",
      "./brighttrac2/store/brighttrac_satchmo/tax/avatax/processor.py 153: 'Got rate [{}] = {}, taxable amount = {}'\n",
      "./brighttrac2/store/brighttrac_satchmo/tax/avatax/get_tax.py 40: '{username}:{password}'\n",
      "./brighttrac2/third_party/transmitters/ftp.py 38: 'Retrieving file: {}'\n",
      "./brighttrac2/third_party/transmitters/ftp.py 70: 'Connecting to {}'\n",
      "./brighttrac2/third_party/transmitters/__init__.py 5: 'brighttrac2.third_party.transmitters.{}'\n",
      "./brighttrac2/subcontrollers/certification.py 106: '{0} Certification ({1}) #{2} deleted. Reason: {3}'\n",
      "./brighttrac2/subcontrollers/certification.py 133: '{0} Certification ({1}) #{2} changed: {3} changed from {4} to {5}'\n",
      "./brighttrac2/subcontrollers/eem.py 41: '/{0}/'\n",
      "./brighttrac2/subcontrollers/cron.py 269: '{}/bt/settle_transactions?key=0EKNV9PfiQ1ZSwFDv8QO0CBsLWxemzvYpZ8Y3vHmVtE'\n",
      "./brighttrac2/subcontrollers/cron.py 279: '\\t{}<br/>'\n",
      "./brighttrac2/subcontrollers/cron.py 287: '\\t{}<br/>'\n",
      "./brighttrac2/subcontrollers/cron.py 257: 'certification_expired:{0}'\n",
      "./brighttrac2/subcontrollers/applicant_status.py 125: 'update {0} set {1} = {2} where {1} = {3}'\n",
      "./brighttrac2/subcontrollers/applicant_status.py 90: 'Deleted Applicant Status ({0}: {1})'\n",
      "./brighttrac2/subcontrollers/store_bridge.py 50: \"Order created on candidate's behalf by staff user {} <{}>\"\n",
      "./brighttrac2/subcontrollers/store_bridge.py 216: 'OID-{0}'\n",
      "./brighttrac2/subcontrollers/store_bridge.py 160: 'Order Completed (Transaction #: {})'\n",
      "./brighttrac2/subcontrollers/store_bridge.py 169: ' Items: {}'\n",
      "./brighttrac2/subcontrollers/store_bridge.py 173: ' Discount Code: {}'\n",
      "./brighttrac2/subcontrollers/store_bridge.py 234: 'Cannot finalize exam application for item {} (order {}) because no application ID is linked to it'\n",
      "./brighttrac2/subcontrollers/store_bridge.py 355: 'Refund of ${:.2f} issued (Product \"{}\", Transaction ID #{})'\n",
      "./brighttrac2/subcontrollers/board_portal.py 74: '{0}%'\n",
      "./brighttrac2/subcontrollers/board_portal.py 76: '{0}%'\n",
      "./brighttrac2/subcontrollers/board_portal.py 79: '{0}%'\n",
      "./brighttrac2/subcontrollers/messages.py 150: 'attachment; filename=\"{0}\";'\n",
      "./brighttrac2/subcontrollers/messages.py 70: '../messages/{0}'\n",
      "./brighttrac2/subcontrollers/messages.py 118: '../../../messages/{0}'\n",
      "./brighttrac2/subcontrollers/third_party.py 44: 'Value must be on or after the testing window start date ({:%Y-%m-%d})'\n",
      "./brighttrac2/subcontrollers/third_party.py 54: 'Value must be on or before the testing window end date ({:%Y-%m-%d})'\n",
      "./brighttrac2/subcontrollers/verification.py 86: 'Document \"{item_type}\" status changed from \"{old_value}\" to \"{new_value}\"'\n",
      "./brighttrac2/subcontrollers/governing_body.py 48: 'You cannot delete a {} which is associated with {}s.'\n",
      "./brighttrac2/subcontrollers/governing_body.py 24: 'Another {} exists with the same name.'\n",
      "./brighttrac2/subcontrollers/governing_body.py 36: 'Another {} exists with the same name.'\n",
      "./brighttrac2/subcontrollers/governing_body.py 72: 'Another {0} question exists with the same name.'\n",
      "./brighttrac2/subcontrollers/governing_body.py 91: 'Another {0} question exists with the same name.'\n",
      "./brighttrac2/subcontrollers/exam.py 349: 'Booklet Audit for {}, ID {}: {}'\n",
      "./brighttrac2/subcontrollers/certification_queue.py 28: '/certification_queue/get_cert_download_document?document_id={}'\n",
      "./brighttrac2/subcontrollers/certification_queue.py 235: '{0} certificate was not queued for printing due to unresolved verification items.'\n",
      "./brighttrac2/subcontrollers/certification_queue.py 239: '{0} certificates were not queued for printing due to unresolved verification items.'\n",
      "./brighttrac2/subcontrollers/certification_queue.py 137: '{0} certificate was not downloaded due to unresolved verification items.'\n",
      "./brighttrac2/subcontrollers/certification_queue.py 140: '{0} certificates were not downloaded due to unresolved verification items.'\n",
      "./brighttrac2/subcontrollers/apply.py 310: 'apply.{}'\n",
      "./brighttrac2/subcontrollers/apply.py 488: 'Application {} is not eligible for rescheduling!'\n",
      "./brighttrac2/subcontrollers/apply.py 198: 'Sec. {}-{}'\n",
      "./brighttrac2/subcontrollers/apply.py 780: 'Exception occurred when trying to apply: user {}, section {}.  Details:'\n",
      "./brighttrac2/subcontrollers/apply.py 807: 'An error occurred while finalizing applications for {}'\n",
      "./brighttrac2/subcontrollers/apply.py 109: '{0}: {1}'\n",
      "./brighttrac2/subcontrollers/special_accommodations.py 49: 'additional_information_{}'\n",
      "./brighttrac2/subcontrollers/results_api.py 45: 'results_api/create: {0}'\n",
      "./brighttrac2/subcontrollers/applicant_document.py 46: '/applicant_document/get_document?id={0}'\n",
      "./brighttrac2/subcontrollers/applicant_document.py 88: '/applicant_document/add_document?doc_type={0}'\n",
      "./brighttrac2/subcontrollers/ce.py 79: '%%{}%%'\n",
      "./brighttrac2/subcontrollers/ce.py 88: '%%{}%%'\n",
      "./brighttrac2/subcontrollers/certification_type.py 108: '{0} required credits of {1} have been added to {2}'\n",
      "./brighttrac2/subcontrollers/certification_type.py 116: '{0} total required credits have been added to {1}'\n",
      "./brighttrac2/subcontrollers/applicant.py 43: 'candidate_{id}_ce_{date}.pdf'\n",
      "./brighttrac2/subcontrollers/applicant.py 187: '/applicant_document/get_document?id={}&_r={}'\n",
      "./brighttrac2/subcontrollers/applicant.py 330: \"Could not merge candidates because of the following reasons:<div style='max-height:350px; overflow:auto; margin-left:10px;'>{0}</div>\"\n",
      "./brighttrac2/subcontrollers/applicant.py 335: 'Beginning to merge Candidate {} ({}) into this account.'\n",
      "./brighttrac2/subcontrollers/applicant.py 406: 'Finished merging Candidate {} ({}) into this account.'\n",
      "./brighttrac2/subcontrollers/applicant.py 526: 'Set status to {}'\n",
      "./brighttrac2/subcontrollers/applicant.py 571: 'Manual Payment processed by {}:{}'\n",
      "./brighttrac2/subcontrollers/applicant.py 625: 'Assessed fee to applicant: ${.2f} for \"{}\"'\n",
      "./brighttrac2/subcontrollers/applicant.py 913: 'Updated {} CE item ({}): {}'\n",
      "./brighttrac2/subcontrollers/applicant.py 921: '{}/cart'\n",
      "./brighttrac2/subcontrollers/applicant.py 382: 'CE Item \"{}\" merged'\n",
      "./brighttrac2/subcontrollers/applicant.py 593: 'Applied payment to applicant: ${:.2f} for \"{}\"'\n",
      "./brighttrac2/subcontrollers/applicant.py 847: 'ce.{}.enabled'\n",
      "./brighttrac2/subcontrollers/applicant.py 906: 'Added {} CE item'\n",
      "./brighttrac2/subcontrollers/applicant.py 327: \"<div style='border-bottom:1px solid darkgray; margin-top:4px; padding:2px;padding-left:6px;'>{}</div>\"\n",
      "./brighttrac2/subcontrollers/applicant.py 365: 'Document \"{}\" merged with status of \"{}\"'\n",
      "./brighttrac2/subcontrollers/applicant.py 302: 'You cannot change the organization of <b>{}</b> because they have active applications'\n",
      "./brighttrac2/subcontrollers/applicant.py 308: '<b>{}</b> has active applications'\n",
      "./brighttrac2/subcontrollers/applicant.py 322: '{} already has an existing CE Item for \"{}\"'\n",
      "./brighttrac2/subcontrollers/applicant.py 850: 'The addition of {} CE is not supported'\n",
      "./brighttrac2/subcontrollers/scores.py 128: 'Releasing results: {}'\n",
      "./brighttrac2/subcontrollers/institution_user/results.py 140: 'attachment; filename=\"Exam Results.{}\";'\n",
      "./brighttrac2/subcontrollers/institution_user/__init__.py 302: 'attachment; filename=\"Applications.{}\";'\n",
      "./brighttrac2/subcontrollers/institution_user/__init__.py 386: 'Your account is suspended and you cannot manage users.  Please contact {0} to resolve this matter.'\n",
      "./brighttrac2/subcontrollers/institution_user/__init__.py 398: 'Your account is suspended and you cannot manage users.  Please contact {0} to resolve this matter.'\n",
      "./brighttrac2/subcontrollers/institution_user/__init__.py 434: 'No active institution for {0}'\n",
      "./brighttrac2/subcontrollers/institution_user/__init__.py 436: 'Requested exam type offerings for non-active institution {0} (active institution: {1})'\n",
      "./brighttrac2/subcontrollers/institution_user/__init__.py 572: 'Your account is suspended and you cannot manage users.  Please contact {0} to resolve this matter.'\n",
      "./brighttrac2/subcontrollers/api/online_ce_item.py 31: 'No course found with ID {}'\n",
      "./brighttrac2/subcontrollers/api/online_ce_item.py 40: 'Could not parse date {}'\n",
      "./brighttrac2/subcontrollers/api/organization.py 140: 'Invalid value provided for \"type\": {}'\n",
      "./brighttrac2/subcontrollers/api/organization.py 145: 'Invalid value provided for \"status\": {}'\n",
      "./brighttrac2/subcontrollers/api/organization.py 181: 'Duplicate abbreviation provided: {}'\n",
      "./brighttrac2/subcontrollers/api/organization.py 184: 'Duplicate customer_id provided: {}'\n",
      "./brighttrac2/subcontrollers/api/organization.py 34: 'Organization with {} {} does not exist'\n",
      "./brighttrac2/subcontrollers/api/organization.py 36: 'Organization with {} {} returned more than one match'\n",
      "./brighttrac2/subcontrollers/api/organization.py 137: 'Field \"{}\" is required'\n",
      "./brighttrac2/subcontrollers/api/organization.py 155: 'Invalid billing country code: {}'\n",
      "./brighttrac2/subcontrollers/api/organization.py 160: 'Invalid billing state code: {}'\n",
      "./brighttrac2/subcontrollers/api/organization.py 171: 'Invalid shipping country code: {}'\n",
      "./brighttrac2/subcontrollers/api/organization.py 175: 'Invalid shipping state code: {}'\n",
      "./brighttrac2/subcontrollers/api/application.py 199: '{} Exam Result added: Application {}, result {}'\n",
      "./brighttrac2/subcontrollers/api/application.py 149: 'Invalid result. Valid options are: {}'\n",
      "./brighttrac2/subcontrollers/api/candidate.py 458: 'Invalid lookup mode: {}'\n",
      "./brighttrac2/subcontrollers/api/candidate.py 61: 'Not a valid result: {}\\n Result should be Pass, Fail, No Show, or Void'\n",
      "./brighttrac2/subcontrollers/api/candidate.py 74: 'Not a valid gender value: {}\\n Gender should be M or F.'\n",
      "./brighttrac2/subcontrollers/api/candidate.py 49: 'Invalid status: {}'\n",
      "./brighttrac2/subcontrollers/api/candidate.py 56: 'Invalid status: {}'\n",
      "./brighttrac2/subcontrollers/api/candidate.py 69: 'Not a valid boolean value: {}'\n",
      "./brighttrac2/subcontrollers/api/candidate.py 94: 'Duplicate user_name provided: {}'\n",
      "./brighttrac2/subcontrollers/api/candidate.py 171: 'Exam result {} does not exist for candidate {}'\n",
      "./brighttrac2/subcontrollers/api/candidate.py 221: 'Certification {} does not exist for candidate {}'\n",
      "./brighttrac2/subcontrollers/api/candidate.py 86: 'Not a valid date: {}'\n",
      "./brighttrac2/subcontrollers/api/candidate.py 110: 'Invalid country code: {}'\n",
      "./brighttrac2/subcontrollers/api/candidate.py 115: '{} is an invalid state code for {}'\n",
      "./brighttrac2/subcontrollers/api/candidate.py 125: 'Not a valid type_id: {}'\n",
      "./brighttrac2/subcontrollers/api/candidate.py 143: 'Not a valid type_id: {}'\n",
      "./brighttrac2/subcontrollers/api/candidate.py 192: 'Candidate with ID {} does not exist'\n",
      "./brighttrac2/subcontrollers/api/candidate.py 194: 'Candidate with ID {} returned more than one match'\n",
      "./brighttrac2/subcontrollers/api/candidate.py 332: 'Applicant with ID {} does not exist'\n",
      "./brighttrac2/subcontrollers/api/candidate.py 334: 'Applicant with ID {} returned more than one match'\n",
      "./brighttrac2/subcontrollers/api/ce_provider.py 84: 'Duplicate user_name provided: {}'\n",
      "./brighttrac2/subcontrollers/api/ce_provider.py 93: 'Invalid country code: {}'\n",
      "./brighttrac2/subcontrollers/api/ce_provider.py 98: 'Invalid state code: {}'\n",
      "./brighttrac2/subcontrollers/portal/profile.py 89: 'profile_requires_{0}'\n",
      "./brighttrac2/subcontrollers/admin/ce.py 53: 'preview_{}'\n",
      "./brighttrac2/subcontrollers/admin/ce.py 45: 'preview_{}'\n",
      "./brighttrac2/subcontrollers/admin/ce.py 144: '%%{}%%'\n",
      "./brighttrac2/subcontrollers/admin/candidate.py 29: '/admin/candidate/view_profile/{0}'\n",
      "./brighttrac2/subcontrollers/institution/__init__.py 353: '{} Offering removed'\n",
      "./brighttrac2/subcontrollers/institution/__init__.py 79: 'Account Manager changed to {0} (ID: {2}, User Name: {1})'\n",
      "./brighttrac2/subcontrollers/institution/__init__.py 93: 'Sales Person changed to {0} (ID: {2}, User Name: {1})'\n",
      "./brighttrac2/subcontrollers/institution/__init__.py 106: 'Status changed to \"{0}\"'\n",
      "./brighttrac2/subcontrollers/institution/__init__.py 279: '{} Offering added'\n",
      "./brighttrac2/subcontrollers/institution/__init__.py 314: '{0} Offering updated: {1}'\n",
      "./brighttrac2/subcontrollers/institution/user_admin.py 63: 'Your account is suspended and you cannot manage users.  Please contact {0} to resolve this matter.'\n",
      "./brighttrac2/subcontrollers/institution/user_admin.py 72: 'Your account is suspended and you cannot manage users.  Please contact {0} to resolve this matter.'\n",
      "./brighttrac2/subcontrollers/institution/user_admin.py 128: 'Your account is suspended and you cannot manage users.  Please contact {0} to resolve this matter.'\n",
      "./brighttrac2/subcontrollers/provider_portal/events.py 120: '{}/cart'\n",
      "./brighttrac2/base_model/dynamic.py 239: 'ALTER TABLE {} ADD COLUMN {}'\n",
      "./brighttrac2/base_model/certification.py 430: '${0:.2f}'\n",
      "./brighttrac2/base_model/certification.py 433: ' + ${0:.2f} reinstatement fee (can be used to reinstate multiple certifications)'\n",
      "./brighttrac2/base_model/certification.py 355: 'renewal_fee_{0}'\n",
      "./brighttrac2/base_model/certification.py 356: 'reinstatement_fee_{0}'\n",
      "./brighttrac2/base_model/certification.py 718: 'Tried to renew {0} requirements with only {1} credits'\n",
      "./brighttrac2/base_model/__init__.py 230: '{0}{1}'\n",
      "./brighttrac2/base_model/__init__.py 271: '<{cls} {user_name} (id {id}) object at {oid})>'\n",
      "./brighttrac2/base_model/__init__.py 487: 'BLO-{0}'\n",
      "./brighttrac2/base_model/__init__.py 235: '{0}/change_password?reset_key={1}'\n",
      "./brighttrac2/base_model/__init__.py 455: 'Deleted Organization {id} [Name: {name}, Abbr: {abbr} Address: {address}]'\n",
      "./brighttrac2/base_model/third_party.py 477: 'Special Accommodation {} for application {} ({})'\n",
      "./brighttrac2/base_model/third_party.py 195: 'Special Accommodations denied for application {} ({})'\n",
      "./brighttrac2/base_model/third_party.py 472: '{} ({})'\n",
      "./brighttrac2/base_model/third_party.py 484: '{} received final approval'\n",
      "./brighttrac2/base_model/third_party.py 491: '{} denied in final approval'\n",
      "./brighttrac2/base_model/third_party.py 189: 'Special Accommodation {} granted for application {} ({})'\n",
      "./brighttrac2/base_model/third_party.py 287: 'third_party.{}'\n",
      "./brighttrac2/base_model/third_party.py 402: '{} authorization email for {} sent (application {})'\n",
      "./brighttrac2/base_model/third_party.py 421: 'third_party.{}.special_accommodation_confirmation_recipients'\n",
      "./brighttrac2/base_model/third_party.py 526: 'status_id = {}'\n",
      "./brighttrac2/base_model/third_party.py 525: 'organization_id = {}'\n",
      "./brighttrac2/base_model/apply_helpers.py 315: '/apply/finalize_applications?{}'\n",
      "./brighttrac2/base_model/apply_helpers.py 411: 'Application fee paid by voucher {}'\n",
      "./brighttrac2/base_model/application.py 236: 'exam_{0}_{1}'\n",
      "./brighttrac2/base_model/application.py 544: 'Application ({app_id}) {note} - {type} {testing_method} {section_date}'\n",
      "./brighttrac2/base_model/application.py 317: 'Application {id} {form_version_message}'\n",
      "./brighttrac2/base_model/application.py 514: 'Manually adding {} exam result ({})'\n",
      "./brighttrac2/base_model/application.py 459: 'Application {} withdrawn due to roster rejection'\n",
      "./brighttrac2/base_model/exam.py 777: '<{cls} {result}{passing}{released} (id {id} object at {oid})>'\n",
      "./brighttrac2/base_model/exam.py 86: 'Deleted Exam {id} [Facility: {facility_id}, Date: {date_range} Types: {types}]'\n",
      "./brighttrac2/base_model/exam.py 780: ' ({}ing)'\n",
      "./brighttrac2/base_model/exam.py 186: 'time_{0}_{1}'\n",
      "./brighttrac2/base_model/communication_document.py 21: '/communication_document/get_document?id={0}'\n",
      "./brighttrac2/base_model/communication_document.py 27: \"<a target='_blank' href='{}'>{}</a>\"\n",
      "./brighttrac2/base_model/region.py 33: 'Deleted Region {id} [Name: {name}, Abbr: {abbr}'\n",
      "./brighttrac2/base_model/exam_type.py 401: '<ExamFormVersion ({}), {} version \"{}\">'\n",
      "./brighttrac2/base_model/exam_type.py 595: '{} or later'\n",
      "./brighttrac2/base_model/exam_type.py 358: '{}::{}'\n",
      "./brighttrac2/base_model/applicant_document.py 102: '/applicant_document/get_document?id={0}'\n",
      "./brighttrac2/base_model/applicant_document.py 111: \"<a target='_blank' href='{}'>{}</a>\"\n",
      "./brighttrac2/base_model/applicant_document.py 143: 'Language token for {0} {1} ({2})'\n",
      "./brighttrac2/base_model/applicant_document.py 134: '{0} {1}'\n",
      "./brighttrac2/base_model/ce.py 193: '<CECategory {} at {}>'\n",
      "./brighttrac2/base_model/ce.py 616: '<{}: \"{}\" at {} (Category \"{}\": {} creds)>'\n",
      "./brighttrac2/base_model/ce.py 797: '/storage/get_file?id={id}&entity_type={type}'\n",
      "./brighttrac2/base_model/ce.py 1231: '<{} object{} at {}, {} ({} credits)>'\n",
      "./brighttrac2/base_model/ce.py 1363: '<{} CECredit (id {}) at {}>'\n",
      "./brighttrac2/base_model/ce.py 234: 'ce.{}.enabled'\n",
      "./brighttrac2/base_model/ce.py 504: '${:.2f}'\n",
      "./brighttrac2/base_model/ce.py 1229: ' \"{}\"'\n",
      "./brighttrac2/base_model/ce.py 488: '%%{}%%'\n",
      "./brighttrac2/base_model/ce.py 523: 'ce.{}.require_payment'\n",
      "./brighttrac2/base_model/ce.py 1008: 'ce.{}.require_payment'\n",
      "./brighttrac2/base_model/certification_type.py 337: '<CERequirement object at {}, {} {} {} credits>'\n",
      "./brighttrac2/base_model/certification_type.py 356: '<CERequirement object at {}, Total credits {} {}>'\n",
      "./brighttrac2/base_model/import_template.py 167: 'Invalid import type: {}'\n",
      "./brighttrac2/base_model/import_template.py 210: 'Incorrect number of fields; expected {}, was {}'\n",
      "./brighttrac2/base_model/import_template.py 237: ' (origin line {})'\n",
      "./brighttrac2/base_model/candidate.py 364: 'Marked as {}contingent'\n",
      "./brighttrac2/base_model/candidate_document_rule.py 61: 'Unknown document type: {0} (available types: {1})'\n",
      "./brighttrac2/base_model/candidate_document_rule.py 288: 'Unknown flag: {0}'\n",
      "./brighttrac2/base_model/candidate_document_rule.py 318: 'Wrong entity type (expected {0}, was {1})'\n",
      "./brighttrac2/base_model/renewal_audit.py 113: 'CE Item {} selected for audit'\n",
      "./brighttrac2/base_model/renewal_audit.py 870: 'Audit result {}, reason: {}'\n",
      "./brighttrac2/base_model/renewal_audit.py 968: 'process_{}'\n",
      "./brighttrac2/base_model/renewal_audit.py 139: 'Renewal for certification {} selected for audit'\n",
      "./brighttrac2/base_model/renewal_audit.py 211: 'Multiple audit targets found for {}: existing {}, attempted redefinition {}'\n",
      "./brighttrac2/base_model/renewal_audit.py 435: 'Unknown audit result: {}'\n",
      "./brighttrac2/base_model/renewal_audit.py 493: 'Audit of CE item {}'\n",
      "./brighttrac2/base_model/renewal_audit.py 533: 'Unknown decision: {}'\n",
      "./brighttrac2/base_model/renewal_audit.py 681: 'Audit of {} renewal'\n",
      "./brighttrac2/base_model/renewal_audit.py 703: 'Unknown decision: {}'\n",
      "./brighttrac2/base_model/renewal_audit.py 707: 'CE item {} marked as {}'\n",
      "./brighttrac2/base_model/renewal_audit.py 580: 'Creating full audit for {} as a result of rejection of CE item {} from audit {}'\n",
      "./brighttrac2/base_model/renewal_audit.py 599: 'Converted due to full audit for {} triggered by rejection of CE item {} from audit {}'\n",
      "./brighttrac2/base_model/renewal_audit.py 612: 'Creating full audit for {} due to conversion of audit {} for CE item {} into a full audit'\n",
      "./brighttrac2/base_model/renewal_audit.py 633: 'Converted due to full audit for {} triggered by conversion of audit {} for CE item {} into a full audit'\n",
      "./brighttrac2/base_model/renewal_audit.py 909: 'audit_rejected:{0}'\n",
      "./brighttrac2/application/closed/manager.py 232: 'Candidate {} ineligible for exam type {} ({})'\n",
      "./brighttrac2/exam/section/providers/first_party.py 36: 'First party section provider: unknown test method {} (available methods: {})'\n",
      "./brighttrac2/events/certification.py 12: '{} certification ({}) granted, expiration {}'\n",
      "./brighttrac2/events/certification.py 17: '{} certification ({}) renewed, expiration {}'\n",
      "./brighttrac2/events/certification.py 44: '{} certification updated: {}'\n",
      "./brighttrac2/events/certification.py 43: '{}={}'\n",
      "./brighttrac2/events/certification.py 65: '{0}:{1}'\n",
      "./brighttrac2/events/certification.py 88: '{0}:{1}'\n",
      "./brighttrac2/events/certification.py 111: '{0}:{1}'\n",
      "./brighttrac2/events/certification.py 134: '{0}:{1}'\n",
      "./brighttrac2/events/certification.py 157: '{0}:{1}'\n",
      "./brighttrac2/events/certification.py 180: '{0}:{1}'\n",
      "./brighttrac2/events/certification.py 203: '{0}:{1}'\n",
      "./brighttrac2/events/certification.py 226: '{0}:{1}'\n",
      "./brighttrac2/events/certification.py 241: '{0}:{1}'\n",
      "./brighttrac2/events/results.py 15: 'Created {} certification due to passing exam result'\n",
      "./brighttrac2/events/third_party.py 24: 'Authorization to test for {} at {} removed (application {})'\n",
      "./brighttrac2/events/third_party.py 13: 'Authorized to test for {} at {} (application {})'\n",
      "./brighttrac2/events/third_party.py 27: 'Application {} deleted'\n",
      "./brighttrac2/events/application.py 36: 'Application created - {type} {testing_method} {section_date} [ID: {app_id}, Attestation: {attestation_id}, Exam Section: {section_id}, Confirmed: {confirmed}]'\n",
      "./brighttrac2/events/application.py 69: '{}/me/applications'\n",
      "./brighttrac2/events/data_import.py 22: '{0}{1}'\n",
      "./brighttrac2/events/data_import.py 69: 'Total rows processed: {}\\n\\t\\t<br/>\\n\\t\\t{} rows imported, {} errors\\n\\t\\t<br/><br/>\\n\\t\\tDetails:\\n\\t\\t<br/>\\n\\t\\t{}'\n",
      "./brighttrac2/events/data_import.py 77: '<br/><br/>A spreadsheet with the error rows is available here: {}'\n",
      "./brighttrac2/events/data_import.py 62: 'Line {}: {}'\n",
      "./brighttrac2/events/data_import.py 82: 'Results of {} import ({})'\n",
      "./brighttrac2/events/data_import.py 33: '{0}/change_password?reset_key={1}'\n",
      "./brighttrac2/events/config.py 30: '{0}%%'\n",
      "./tests/integration/controllers/test_bootstrap.py 3: '/admin/user/get/{}'\n",
      "./tests/integration/controllers/test_bootstrap.py 7: '/admin/user/get/{}'\n",
      "./tests/integration/controllers/exam_type/test_when_requesting_form_versions.py 4: '/exam_type/form_versions/{}'\n",
      "./tests/integration/controllers/exam_type/test_when_requesting_form_versions.py 15: '/exam_type/form_versions/{}'\n",
      "./tests/integration/templates/test_when_resolving_core_template.py 39: '{}.html'\n",
      "./tests/integration/templates/test_when_resolving_core_template.py 23: '{}.html'\n",
      "./tests/integration/templates/test_when_resolving_core_template.py 39: '.{}'\n",
      "./tests/integration/store/brighttrac_satchmo/test_when_item_removed_from_cart.py 22: '{0}_fee_CERT'\n",
      "./tests/integration/store/brighttrac_satchmo/test_when_get_order_or_product_data.py 166: 'prod_{0}'\n",
      "./tests/integration/store/brighttrac_satchmo/test_when_get_order_or_product_data.py 205: 'prod_{0}'\n",
      "./tests/integration/store/brighttrac_satchmo/test_when_get_order_or_product_data.py 145: 'prod_{0}'\n",
      "./tests/integration/store/brighttrac_satchmo/test_when_get_order_or_product_data.py 186: 'prod_{0}'\n",
      "./tests/integration/store/data/regenerate.py 13: '{0}.py'\n",
      "./tests/integration/store/data/regenerate.py 21: '\"\"\"\\n{{{0}}}\"\"\"'\n",
      "./tests/integration/model/conftest.py 8: 'postgresql+psycopg2://core_user:core_pass@{}:5432/core_data'\n",
      "./tests/integration/model/dynamic/test_when_using_object_name_field.py 15: 'SELECT o FROM test_entity where id = {}'\n",
      "./tests/integration/model/dynamic/test_when_using_object_name_field.py 42: 'SELECT o FROM test_entity where id = {}'\n",
      "./tests/unit/application/test_when_getting_store_product_for_application.py 24: 'exam_{}_cesswi'\n",
      "./tests/unit/application/test_when_getting_store_product_for_application.py 42: 'exam_{}_cesswi'\n",
      "./scripts/demo_create_yaml_from_email.py 96: 'Unknown system type: {0}'\n",
      "./scripts/demo_create_yaml_from_pdf.py 39: 'pdf2txt.py -thtml \"{0}\"'\n",
      "./scripts/demo_bootstrap.py 396: '{0}-demo-store.thebrightlink.com'\n",
      "./scripts/demo_bootstrap.py 397: 'https://{0}'\n",
      "./scripts/demo_bootstrap.py 434: '{0} Store'\n",
      "./scripts/demo_bootstrap.py 404: 'https://{0}-demo.thebrightlink.com'\n",
      "./scripts/demo_bootstrap.py 429: '{0} Certification Portal'\n",
      "./scripts/demo_bootstrap.py 115: '{0} Exam ({1})'\n",
      "./scripts/demo_bootstrap.py 116: 'exam_{0}_{1}'\n",
      "./scripts/demo_bootstrap.py 304: 'user{0}@demo.com'\n",
      "./scripts/demo_bootstrap.py 409: '<h4>Please click <a href=\"{0}\">here</a> to return to the Dashboard.</h4>'\n",
      "./scripts/demo_bootstrap.py 431: '{0} Licensure Portal'\n",
      "./scripts/demo_bootstrap.py 444: 'demo@{0}'\n",
      "./scripts/demo_bootstrap.py 445: 'demo@{0}'\n",
      "./scripts/demo_bootstrap.py 495: 'Data file {0} not found'\n",
      "./scripts/demo_bootstrap.py 499: 'Data file {0} not found'\n",
      "./scripts/demo_bootstrap.py 129: 'Renewal Fee - {0}'\n",
      "./scripts/demo_bootstrap.py 129: 'renewal_fee_{0}'\n",
      "./scripts/demo_bootstrap.py 130: 'Recertification Fee - {0}'\n",
      "./scripts/demo_bootstrap.py 130: 'recertification_fee_{0}'\n",
      "./scripts/demo_bootstrap.py 359: 'This is sample question {0}'\n",
      "./scripts/demo_bootstrap.py 360: 'DEMO-{0}'\n",
      "./scripts/demo_bootstrap.py 182: 'certificates_{0}'\n",
      "./scripts/demo_bootstrap.py 309: 'Demo {0}'\n",
      "./scripts/demo_bootstrap.py 310: 'User {0}'\n",
      "./scripts/demo_bootstrap.py 316: '{0} Demo St.'\n",
      "./scripts/demo_bootstrap.py 321: '404-{0}-{1}'\n",
      "./scripts/demo_bootstrap.py 368: 'Sample answer {0}'\n",
      "./scripts/send_paper_invitations.py 48: 'Sending invitation for applicant {} (user {})'\n",
      "./scripts/send_paper_invitations.py 45: 'Invalid ID: {}, skipping...'\n",
      "./scripts/utc-ize.py 55: ' | {0}'\n",
      "./scripts/utc-ize.py 78: 'UPDATE \"{table_name}\"\\n\\t\\t\\t   SET {column_name} = ({column_name} at time zone \\'{local_tz}\\')::timestamp;'\n",
      "./scripts/utc-ize.py 111: 'Converting row values from {0} to UTC'\n",
      "./scripts/utc-ize.py 52: 'Excluding column {0}.{1}'\n",
      "./scripts/etl/core.py 66: 'skipped item {} on order {}'\n",
      "./scripts/etl/core.py 71: 'order {} contains partial renewal item for certification {}'\n",
      "./scripts/etl/core.py 77: 'missing renewal from order {} for certification {}'\n"
     ]
    }
   ],
   "source": [
    "for py in all_pys():\n",
    "    format_nanny(py)"
   ]
  },
  {
   "cell_type": "markdown",
   "metadata": {},
   "source": [
    "This won't detect certain dynamic cases, where `.format` is being applied to a variable, as here:"
   ]
  },
  {
   "cell_type": "code",
   "execution_count": 46,
   "metadata": {
    "collapsed": true
   },
   "outputs": [],
   "source": [
    "# %load -r 834-851 brighttrac2/base_model/renewal_audit.py\n",
    "def _adjustment_requested(adjustment):\n",
    "    if adjustment.auditor:\n",
    "        template = 'Staff requested candidate adjustment for {what} for CE item ' \\\n",
    "                   '{title}'\n",
    "    else:\n",
    "        template = 'System-initiated candidate adjustment for {what} for CE item ' \\\n",
    "                   '{title}'\n",
    "\n",
    "    items = [('credit_error', 'number of credits'),\n",
    "             ('document_error', 'item documentation')]\n",
    "\n",
    "    what = [description for attr, description in items\n",
    "            if getattr(adjustment, attr)]\n",
    "\n",
    "    note = template.format(what=', '.join(what),\n",
    "                           title=adjustment.ce_item.title)\n",
    "\n",
    "    adjustment.audit.note(note, staff=adjustment.auditor)"
   ]
  }
 ],
 "metadata": {
  "kernelspec": {
   "display_name": "Python 2",
   "language": "python",
   "name": "python2"
  },
  "language_info": {
   "codemirror_mode": {
    "name": "ipython",
    "version": 2
   },
   "file_extension": ".py",
   "mimetype": "text/x-python",
   "name": "python",
   "nbconvert_exporter": "python",
   "pygments_lexer": "ipython2",
   "version": "2.7.8"
  }
 },
 "nbformat": 4,
 "nbformat_minor": 0
}
